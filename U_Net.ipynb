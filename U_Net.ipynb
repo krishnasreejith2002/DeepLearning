{
  "nbformat": 4,
  "nbformat_minor": 0,
  "metadata": {
    "colab": {
      "provenance": []
    },
    "kernelspec": {
      "name": "python3",
      "display_name": "Python 3"
    },
    "language_info": {
      "name": "python"
    }
  },
  "cells": [
    {
      "cell_type": "code",
      "execution_count": 1,
      "metadata": {
        "colab": {
          "base_uri": "https://localhost:8080/"
        },
        "id": "eBpH3DeT5XOr",
        "outputId": "b6519244-c1d3-4f85-e8ee-aa624b49cd19"
      },
      "outputs": [
        {
          "output_type": "stream",
          "name": "stdout",
          "text": [
            "Downloading from https://www.kaggle.com/api/v1/datasets/download/shubhambaid/skin-burn-dataset?dataset_version_number=1...\n"
          ]
        },
        {
          "output_type": "stream",
          "name": "stderr",
          "text": [
            "100%|██████████| 16.6M/16.6M [00:01<00:00, 17.2MB/s]"
          ]
        },
        {
          "output_type": "stream",
          "name": "stdout",
          "text": [
            "Extracting files...\n"
          ]
        },
        {
          "output_type": "stream",
          "name": "stderr",
          "text": [
            "\n"
          ]
        },
        {
          "output_type": "stream",
          "name": "stdout",
          "text": [
            "Path to dataset files: /root/.cache/kagglehub/datasets/shubhambaid/skin-burn-dataset/versions/1\n"
          ]
        }
      ],
      "source": [
        "import kagglehub\n",
        "\n",
        "# Download latest version\n",
        "path = kagglehub.dataset_download(\"shubhambaid/skin-burn-dataset\")\n",
        "print(\"Path to dataset files:\", path)\n"
      ]
    },
    {
      "cell_type": "code",
      "source": [
        "import os\n",
        "import numpy as np\n",
        "import tensorflow as tf\n",
        "from tensorflow.keras import layers, Model\n",
        "from tensorflow.keras.preprocessing.image import load_img, img_to_array\n",
        "import matplotlib.pyplot as plt\n"
      ],
      "metadata": {
        "id": "nwnpXg-89bBF"
      },
      "execution_count": 8,
      "outputs": []
    },
    {
      "cell_type": "code",
      "source": [
        "from glob import glob\n",
        "\n",
        "# Example: Assuming dataset is structured as images and masks in separate folders\n",
        "image_dir = os.path.join(path, \"images\")\n",
        "mask_dir = os.path.join(path, \"masks\")\n",
        "\n",
        "def load_data(img_paths, mask_paths, target_size=(128, 128)):\n",
        "    X, Y = [], []\n",
        "    for img_path, mask_path in zip(img_paths, mask_paths):\n",
        "        img = load_img(img_path, target_size=target_size)\n",
        "        img = img_to_array(img) / 255.0\n",
        "\n",
        "        mask = load_img(mask_path, target_size=target_size, color_mode=\"grayscale\")\n",
        "        mask = img_to_array(mask) / 255.0\n",
        "\n",
        "        X.append(img)\n",
        "        Y.append(mask)\n",
        "\n",
        "    return np.array(X), np.array(Y)\n",
        "\n",
        "image_paths = sorted(glob(os.path.join(image_dir, \"*.jpg\")))\n",
        "mask_paths = sorted(glob(os.path.join(mask_dir, \"*.png\")))\n",
        "\n",
        "X, Y = load_data(image_paths, mask_paths)\n"
      ],
      "metadata": {
        "id": "lKEffUQ99fj0"
      },
      "execution_count": 10,
      "outputs": []
    },
    {
      "cell_type": "code",
      "source": [
        "import os\n",
        "\n",
        "print(\"Dataset root path:\", path)\n",
        "print(\"Contents of dataset folder:\")\n",
        "print(os.listdir(path))\n"
      ],
      "metadata": {
        "colab": {
          "base_uri": "https://localhost:8080/"
        },
        "id": "wwoJ5EzE-Dls",
        "outputId": "f6af0a4b-6f2c-4e27-fe0d-08e8a95812ba"
      },
      "execution_count": 14,
      "outputs": [
        {
          "output_type": "stream",
          "name": "stdout",
          "text": [
            "Dataset root path: /kaggle/input/skin-burn-dataset\n",
            "Contents of dataset folder:\n",
            "['img560.txt', 'img1194.jpg', 'img275.txt', 'img966.txt', 'img516.jpg', 'img943.txt', 'img254.jpg', 'img263.jpg', 'img699.txt', 'img659.jpg', 'img338.txt', 'img1387.txt', 'img575.jpg', 'img483.txt', 'img4.txt', 'img470.txt', 'img794.txt', 'img1013.jpg', 'img0.jpg', 'img988.txt', 'img66.txt', 'img1119.jpg', 'img403.jpg', 'img1138.jpg', 'img1280.txt', 'img1173.jpg', 'img786.txt', 'img522.txt', 'img1176.jpg', 'img696.txt', 'img1343.txt', 'img932.txt', 'img822.txt', 'img1120.txt', 'img224.jpg', 'img985.jpg', 'img113.txt', 'img514.jpg', 'img170.jpg', 'img212.jpg', 'img18.txt', 'img280.jpg', 'img344.txt', 'img341.txt', 'img1303.txt', 'img373.txt', 'img77.jpg', 'img340.jpg', 'img521.jpg', 'img154.jpg', 'img170.txt', 'img498.jpg', 'img226.txt', 'img42.jpg', 'img989.txt', 'img317.txt', 'img1144.txt', 'img921.txt', 'img1285.jpg', 'img1210.txt', 'img920.txt', 'img435.txt', 'img342.jpg', 'img691.jpg', 'img286.jpg', 'img144.jpg', 'img655.txt', 'img302.txt', 'img817.txt', 'img776.txt', 'img729.jpg', 'img126.txt', 'img721.txt', 'img1214.jpg', 'img1429.jpg', 'img150.jpg', 'img396.jpg', 'img328.jpg', 'img684.txt', 'img761.txt', 'img720.txt', 'img585.txt', 'img551.jpg', 'img1392.txt', 'img290.jpg', 'img297.jpg', 'img289.jpg', 'img338.jpg', 'img868.jpg', 'img999.jpg', 'img431.jpg', 'img858.txt', 'img331.jpg', 'img1288.jpg', 'img258.txt', 'img383.jpg', 'img749.jpg', 'img631.txt', 'img742.txt', 'img139.jpg', 'img412.txt', 'img285.jpg', 'img243.jpg', 'img752.jpg', 'img1393.jpg', 'img1382.jpg', 'img838.txt', 'img491.jpg', 'img927.txt', 'img201.txt', 'img903.txt', 'img1198.jpg', 'img497.txt', 'img904.txt', 'img582.txt', 'img81.txt', 'img1070.txt', 'img751.txt', 'img697.txt', 'img501.jpg', 'img1234.jpg', 'img593.jpg', 'img210.jpg', 'img9.txt', 'img1271.jpg', 'img1264.txt', 'img1351.txt', 'img148.jpg', 'img975.jpg', 'img162.jpg', 'img16.jpg', 'img930.jpg', 'img675.txt', 'img158.txt', 'img399.txt', 'img1334.txt', 'img1254.txt', 'img130.jpg', 'img685.txt', 'img524.jpg', 'img1325.txt', 'img544.jpg', 'img888.jpg', 'img136.jpg', 'img1365.jpg', 'img1438.txt', 'img260.txt', 'img234.jpg', 'img476.jpg', 'img1214.txt', 'img1294.txt', 'img1124.txt', 'img1233.txt', 'img855.txt', 'img613.jpg', 'img683.jpg', 'img1313.jpg', 'img1196.jpg', 'img1227.jpg', 'img415.txt', 'img1064.jpg', 'img549.txt', 'img1158.txt', 'img35.txt', 'img323.jpg', 'img204.jpg', 'img855.jpg', 'img462.txt', 'img693.txt', 'img532.txt', 'img273.jpg', 'img301.txt', 'img663.txt', 'img918.txt', 'img1315.txt', 'img663.jpg', 'img1342.jpg', 'img1128.txt', 'img128.jpg', 'img1324.txt', 'img528.txt', 'img431.txt', 'img164.jpg', 'img637.txt', 'img175.txt', 'img277.txt', 'img1298.jpg', 'img579.jpg', 'img660.jpg', 'img1353.jpg', 'img948.jpg', 'img1281.txt', 'img910.txt', 'img1088.txt', 'img956.txt', 'img1240.txt', 'img368.txt', 'img1236.txt', 'img1395.txt', 'img188.jpg', 'img1414.txt', 'img363.txt', 'img1308.jpg', 'img223.txt', 'img953.txt', 'img424.jpg', 'img900.jpg', 'img1400.jpg', 'img1286.jpg', 'img83.jpg', 'img1326.txt', 'img418.jpg', 'img372.txt', 'img643.jpg', 'img452.jpg', 'img563.jpg', 'img871.txt', 'img925.txt', 'img152.txt', 'img566.txt', 'img155.txt', 'img854.jpg', 'img1246.txt', 'img747.txt', 'img718.jpg', 'img616.txt', 'img342.txt', 'img217.jpg', 'img810.jpg', 'img998.jpg', 'img921.jpg', 'img787.txt', 'img1274.txt', 'img613.txt', 'img897.txt', 'img465.txt', 'img1273.txt', 'img950.txt', 'img1225.jpg', 'img360.txt', 'img451.txt', 'img1332.txt', 'img318.txt', 'img525.txt', 'img570.txt', 'img629.txt', 'img33.jpg', 'img273.txt', 'img455.txt', 'img844.jpg', 'img20.txt', 'img463.txt', 'img796.jpg', 'img1071.txt', 'img52.txt', 'img872.jpg', 'img1219.jpg', 'img564.txt', 'img580.txt', 'img428.jpg', 'img567.txt', 'img252.txt', 'img1324.jpg', 'img934.txt', 'img960.jpg', 'img1149.txt', 'img153.txt', 'img1051.txt', 'img1164.txt', 'img706.txt', 'img9.jpg', 'img1205.txt', 'img917.jpg', 'img969.txt', 'img235.txt', 'img743.txt', 'img676.jpg', 'img588.txt', 'img981.jpg', 'img377.txt', 'img247.txt', 'img745.jpg', 'img872.txt', 'img1221.jpg', 'img432.txt', 'img805.txt', 'img591.jpg', 'img1132.jpeg', 'img605.txt', 'img1376.jpg', 'img733.jpg', 'img1192.jpg', 'img577.txt', 'img85.txt', 'img314.jpg', 'img113.jpg', 'img1405.txt', 'img944.txt', 'img676.txt', 'img296.jpg', 'img721.jpg', 'img781.txt', 'img914.txt', 'img266.txt', 'img937.txt', 'img1435.jpg', 'img1095.txt', 'img568.jpg', 'img509.txt', 'img651.jpg', 'img911.txt', 'img1177.txt', 'img324.jpg', 'img1055.jpg', 'img1276.jpg', 'img685.jpg', 'img192.jpg', 'img1416.jpg', 'img388.txt', 'img451.jpg', 'img424.txt', 'img447.jpg', 'img1185.txt', 'img510.jpg', 'img258.jpg', 'img495.txt', 'img278.txt', 'img1119.txt', 'img1222.jpg', 'img21.jpg', 'img1161.txt', 'img206.jpg', 'img416.jpg', 'img1416.txt', 'img1155.txt', 'img1422.txt', 'img1288.txt', 'img1263.jpg', 'img159.jpg', 'img308.txt', 'img315.txt', 'img1186.txt', 'img649.jpg', 'img1178.txt', 'img365.jpg', 'img999.txt', 'img119.jpg', 'img1013.txt', 'img36.jpg', 'img1321.jpg', 'img1020.txt', 'img336.txt', 'img479.jpg', 'img58.jpg', 'img1255.txt', 'img401.jpg', 'img640.jpg', 'img951.txt', 'img169.txt', 'img461.jpg', 'img5.txt', 'img109.txt', 'img947.txt', 'img1398.txt', 'img143.jpg', 'img726.txt', 'img1085.txt', 'img337.jpg', 'img1220.txt', 'img1378.txt', 'img1375.txt', 'img1292.jpg', 'img194.jpg', 'img849.txt', 'img38.txt', 'img842.txt', 'img621.txt', 'img754.txt', 'img974.jpg', 'img586.txt', 'img395.txt', 'img259.txt', 'img636.jpg', 'img1172.jpg', 'img459.jpg', 'img541.txt', 'img811.txt', 'img1317.txt', 'img85.jpg', 'img552.jpg', 'img352.txt', 'img134.jpg', 'img895.jpg', 'img607.jpg', 'img245.txt', 'img244.jpg', 'img1270.txt', 'img681.jpg', 'img482.jpg', 'img500.txt', 'img792.txt', 'img990.txt', 'img1075.txt', 'img89.jpg', 'img175.jpg', 'img961.jpg', 'img566.jpg', 'img434.jpg', 'img961.txt', 'img600.txt', 'img973.jpg', 'img271.txt', 'img184.jpg', 'img869.txt', 'img1260.jpg', 'img540.jpg', 'img1097.txt', 'img194.txt', 'img907.jpg', 'img59.txt', 'img1317.jpg', 'img531.txt', 'img1375.jpg', 'img251.txt', 'img864.txt', 'img558.txt', 'img133.jpg', 'img426.txt', 'img1211.txt', 'img264.jpg', 'img395.jpg', 'img295.txt', 'img1115.txt', 'img763.jpg', 'img646.txt', 'img312.jpg', 'img1163.jpg', 'img1433.jpg', 'img1354.txt', 'img111.txt', 'img1314.jpg', 'img1048.jpg', 'img320.txt', 'img227.txt', 'img197.jpg', 'img122.txt', 'img930.txt', 'img274.jpg', 'img159.txt', 'img339.jpg', 'img967.jpg', 'img540.txt', 'img1265.txt', 'img821.jpg', 'img735.txt', 'img133.txt', 'img248.txt', 'img440.txt', 'img1209.txt', 'img988.jpg', 'img160.jpg', 'img426.jpg', 'img1134.txt', 'img737.jpg', 'img1082.txt', 'img247.jpg', 'img1127.jpg', 'img692.jpg', 'img1152.jpg', 'img1060.txt', 'img1398.jpg', 'img527.txt', 'img376.jpg', 'img491.txt', 'img1004.jpg', 'img731.txt', 'img87.jpg', 'img909.txt', 'img309.txt', 'img40.jpg', 'img279.jpg', 'img790.jpg', 'img251.jpg', 'img324.txt', 'img17.jpg', 'img1403.jpg', 'img351.jpg', 'img861.txt', 'img1415.jpg', 'img437.jpg', 'img795.txt', 'img632.txt', 'img60.txt', 'img972.txt', 'img154.txt', 'img509.jpg', 'img484.txt', 'img239.txt', 'img1293.txt', 'img490.jpg', 'img1301.txt', 'img1111.jpg', 'img345.txt', 'img523.jpg', 'img131.txt', 'img183.jpg', 'img519.jpg', 'img45.jpg', 'img1206.txt', 'img409.txt', 'img234.txt', 'img72.txt', 'img910.jpg', 'img97.jpg', 'img1173.txt', 'img268.jpg', 'img982.txt', 'img1350.txt', 'img773.txt', 'img232.txt', 'img851.txt', 'img620.txt', 'img1054.txt', 'img627.txt', 'img677.jpg', 'img699.jpg', 'img493.jpg', 'img1327.txt', 'img1114.txt', 'img420.jpg', 'img800.txt', 'img661.txt', 'img1330.jpg', 'img187.jpg', 'img2.jpg', 'img1228.txt', 'img379.jpg', 'img418.txt', 'img1064.txt', 'img141.jpg', 'img242.jpg', 'img1359.txt', 'img1364.txt', 'img1363.jpg', 'img702.txt', 'img511.jpg', 'img784.txt', 'img421.txt', 'img1048.txt', 'img209.txt', 'img760.txt', 'img480.txt', 'img269.jpg', 'img140.jpg', 'img894.txt', 'img385.jpg', 'img544.txt', 'img1292.txt', 'img827.txt', 'img1131.jpg', 'img1403.txt', 'img390.jpg', 'img1160.txt', 'img834.txt', 'img1105.jpg', 'img1434.jpg', 'img512.txt', 'img18.jpg', 'img1029.txt', 'img43.txt', 'img327.jpg', 'img1038.txt', 'img1072.jpg', 'img732.txt', 'img1002.txt', 'img421.jpg', 'img48.jpg', 'img722.txt', 'img359.txt', 'img664.jpg', 'img481.txt', 'img364.txt', 'img777.jpg', 'img1304.jpg', 'img740.txt', 'img672.jpg', 'img1180.jpg', 'img1102.txt', 'img818.txt', 'img195.jpg', 'img177.jpg', 'img924.jpg', 'img1160.jpg', 'img151.jpg', 'img760.jpg', 'img1245.jpg', 'img1402.jpg', 'img796.txt', 'img282.jpg', 'img803.jpg', 'img1193.txt', 'img165.txt', 'img477.txt', 'img27.jpg', 'img1007.txt', 'img1026.txt', 'img756.txt', 'img1227.txt', 'img1080.txt', 'img715.txt', 'img1343.jpg', 'img764.jpg', 'img1046.txt', 'img771.txt', 'img1323.txt', 'img197.txt', 'img816.jpg', 'img797.txt', 'img1419.txt', 'img1181.txt', 'img777.txt', 'img51.jpg', 'img39.jpg', 'img811.jpg', 'img1345.txt', 'img1331.txt', 'img1185.jpg', 'img1315.jpg', 'img525.jpg', 'img973.txt', 'img413.jpg', 'img330.txt', 'img349.jpg', 'img167.txt', 'img286.txt', 'img673.txt', 'img926.txt', 'img1349.txt', 'img326.jpg', 'img813.txt', 'img464.txt', 'img884.txt', 'img846.jpg', 'img1052.txt', 'img435.jpg', 'img178.txt', 'img1384.txt', 'img1231.txt', 'img446.jpg', 'img416.txt', 'img1366.txt', 'img1304.txt', 'img348.txt', 'img799.jpg', 'img296.txt', 'img711.jpg', 'img88.txt', 'img445.txt', 'img142.txt', 'img353.jpg', 'img356.jpg', 'img636.txt', 'img639.txt', 'img505.jpg', 'img27.txt', 'img189.txt', 'img1122.txt', 'img1025.txt', 'img396.txt', 'img1366.jpg', 'img517.txt', 'img1133.txt', 'img1027.txt', 'img642.txt', 'img725.jpg', 'img16.txt', 'img687.txt', 'img599.jpg', 'img1281.jpg', 'img304.jpg', 'img1289.txt', 'img453.txt', 'img1174.jpg', 'img565.jpg', 'img903.jpg', 'img229.jpg', 'img57.jpg', 'img314.txt', 'img422.jpg', 'img75.txt', 'img405.jpg', 'img547.jpg', 'img36.txt', 'img647.jpg', 'img423.txt', 'img838.jpg', 'img98.txt', 'img700.jpg', 'img529.txt', 'img769.txt', 'img70.txt', 'img690.txt', 'img1297.jpg', 'img1293.jpg', 'img668.txt', 'img1149.jpg', 'img475.jpg', 'img285.txt', 'img411.txt', 'img1274.jpg', 'img575.txt', 'img704.txt', 'img1167.jpg', 'img362.jpg', 'img1369.txt', 'img205.jpg', 'img550.jpg', 'img595.txt', 'img1036.txt', 'img625.jpg', 'img1029.jpg', 'img553.txt', 'img260.jpg', 'img904.jpg', 'img1106.txt', 'img1145.txt', 'img604.txt', 'img803.txt', 'img1409.txt', 'img1086.jpg', 'img574.jpg', 'img1131.txt', 'img0.txt', 'img348.jpg', 'img7.jpg', 'img832.jpg', 'img598.txt', 'img582.jpg', 'img886.txt', 'img3.txt', 'img751.jpg', 'img681.txt', 'img833.jpg', 'img206.txt', 'img1319.txt', 'img220.jpg', 'img1.txt', 'img837.jpg', 'img680.jpg', 'img783.jpg', 'img913.txt', 'img82.jpg', 'img235.jpg', 'img591.txt', 'img653.jpg', 'img784.jpg', 'img715.jpg', 'img587.txt', 'img1023.jpg', 'img1108.txt', 'img217.txt', 'img52.jpg', 'img576.jpg', 'img502.jpg', 'img1213.txt', 'img853.jpg', 'img741.txt', 'img1269.jpg', 'img190.jpg', 'img735.jpg', 'img503.jpg', 'img272.jpg', 'img246.jpg', 'img1068.txt', 'img991.jpg', 'img414.jpg', 'img877.txt', 'img578.jpg', 'img1198.txt', 'img822.jpg', 'img859.txt', 'img1106.jpg', 'img1040.txt', 'img1136.jpg', 'img634.jpg', 'img1087.txt', 'img1390.txt', 'img475.txt', 'img303.txt', 'img11.txt', 'img1252.txt', 'img1033.jpg', 'img1272.txt', 'img382.txt', 'img620.jpg', 'img412.jpg', 'img888.txt', 'img12.jpg', 'img1371.txt', 'img1411.jpg', 'img1405.jpg', 'img375.txt', 'img1101.txt', 'img672.txt', 'img482.txt', 'img1216.jpg', 'img40.txt', 'img919.jpg', 'img912.txt', 'img686.jpg', 'img39.txt', 'img922.jpg', 'img717.jpg', 'img657.jpg', 'img1335.jpg', 'img839.txt', 'img237.jpg', 'img1440.txt', 'img91.txt', 'img1146.txt', 'img861.jpg', 'img24.jpg', 'img210.txt', 'img895.txt', 'img612.jpg', 'img727.jpg', 'img123.jpg', 'img1232.jpg', 'img1423.txt', 'img837.txt', 'img306.txt', 'img1073.txt', 'img104.txt', 'img184.txt', 'img1028.txt', 'img28.txt', 'img436.txt', 'img820.txt', 'img1042.txt', 'img680.txt', 'img271.jpg', 'img1098.txt', 'img343.txt', 'img1041.jpg', 'img954.txt', 'img626.txt', 'img1175.jpg', 'img539.jpg', 'img93.jpg', 'img92.jpg', 'img216.txt', 'img118.jpg', 'img939.txt', 'img1267.jpg', 'img953.jpg', 'img209.jpg', 'img705.txt', 'img1347.txt', 'img848.txt', 'img920.jpg', 'img610.jpg', 'img739.jpg', 'img333.txt', 'img767.txt', 'img1241.txt', 'img388.jpg', 'img186.txt', 'img1184.txt', 'img836.txt', 'img1055.txt', 'img490.txt', 'img1213.jpg', 'img1147.jpg', 'img300.txt', 'img831.jpg', 'img543.jpg', 'img185.txt', 'img37.txt', 'img454.txt', 'img508.txt', 'img1383.txt', 'img455.jpg', 'img599.txt', 'img711.txt', 'img10.jpg', 'img698.jpg', 'img1328.txt', 'img600.jpg', 'img461.txt', 'img518.jpg', 'img63.txt', 'img200.jpg', 'img305.jpg', 'img59.jpg', 'img336.jpg', 'img1434.txt', 'img1377.txt', 'img1096.txt', 'img1191.txt', 'img1311.txt', 'img815.txt', 'img652.jpg', 'img332.jpg', 'img105.jpg', 'img188.txt', 'img603.jpg', 'img1310.jpg', 'img55.txt', 'img246.txt', 'img305.txt', 'img284.txt', 'img1280.jpg', 'img671.jpg', 'img557.txt', 'img852.txt', 'img1234.txt', 'img666.txt', 'img1205.jpg', 'img933.jpg', 'img118.txt', 'img226.jpg', 'img430.txt', 'img533.jpg', 'img662.jpg', 'img7.txt', 'img990.jpg', 'img1216.txt', 'img56.txt', 'img860.txt', 'img1057.txt', 'img1161.jpg', 'img1224.txt', 'img503.txt', 'img335.txt', 'img147.jpg', 'img86.txt', 'img1105.txt', 'img1322.txt', 'img128.txt', 'img256.txt', 'img661.jpg', 'img987.txt', 'img665.txt', 'img987.jpg', 'img1391.jpg', 'img579.txt', 'img98.jpg', 'img537.jpg', 'img147.txt', 'img149.jpg', 'img225.jpg', 'img778.txt', 'img315.jpg', 'img879.txt', 'img413.txt', 'img236.jpg', 'img736.txt', 'img220.txt', 'img938.jpg', 'img449.jpg', 'img1370.jpg', 'img648.txt', 'img881.txt', 'img302.jpg', 'img1263.txt', 'img700.txt', 'img576.txt', 'img909.jpg', 'img28.jpg', 'img1321.txt', 'img278.jpg', 'img191.txt', 'img857.jpg', 'img981.txt', 'img326.txt', 'img643.txt', 'img101.jpg', 'img473.txt', 'img15.txt', 'img745.txt', 'img489.txt', 'img809.txt', 'img81.jpg', 'img1254.jpg', 'img1402.txt', 'img971.jpg', 'img967.txt', 'img843.jpg', 'img885.jpg', 'img350.jpg', 'img244.txt', 'img42.txt', 'img1062.jpg', 'img267.txt', 'img1232.txt', 'img1290.jpg', 'img6.txt', 'img263.txt', 'img473.jpg', 'img568.txt', 'img1143.jpg', 'img940.txt', 'img1249.txt', 'img478.txt', 'img103.jpg', 'img1165.jpg', 'img702.jpg', 'img270.txt', 'img114.txt', 'img785.txt', 'img1091.jpg', 'img73.txt', 'img1302.jpg', 'img958.jpg', 'img536.txt', 'img303.jpg', 'img854.txt', 'img825.txt', 'img1338.jpg', 'img515.txt', 'img1067.jpg', 'img446.txt', 'img238.jpg', 'img931.txt', 'img1261.jpg', 'img581.jpg', 'img651.txt', 'img1188.jpg', 'img1107.jpg', 'img1011.jpg', 'img89.txt', 'img644.jpg', 'img120.jpg', 'img1041.txt', 'img610.txt', 'img374.jpg', 'img1401.jpg', 'img408.txt', 'img381.jpg', 'img79.txt', 'img1373.jpg', 'img182.txt', 'img172.jpg', 'img77.txt', 'img1143.txt', 'img605.jpg', 'img480.jpg', 'img660.txt', 'img1320.jpg', 'img236.txt', 'img433.jpg', 'img69.txt', 'img658.txt', 'img138.txt', 'img1063.jpg', 'img165.jpg', 'img50.txt', 'img763.txt', 'img474.jpg', 'img719.jpg', 'img343.jpg', 'img200.txt', 'img952.txt', 'img255.jpg', 'img126.jpg', 'img1421.txt', 'img1116.txt', 'img493.txt', 'img975.txt', 'img410.txt', 'img319.jpg', 'img694.jpg', 'img365.txt', 'img481.jpg', 'img30.txt', 'img392.txt', 'img1172.txt', 'img561.txt', 'img298.txt', 'img717.txt', 'img649.txt', 'img624.txt', 'img931.jpg', 'img1327.jpg', 'img728.txt', 'img814.txt', 'img1112.txt', 'img653.txt', 'img419.txt', 'img1378.jpg', 'img476.txt', 'img112.jpg', 'img199.jpg', 'img1221.txt', 'img463.jpg', 'img1356.txt', 'img1170.jpg', 'img211.txt', 'img941.txt', 'img1094.txt', 'img1151.jpg', 'img622.jpg', 'img107.txt', 'img1186.jpg', 'img844.txt', 'img450.txt', 'img916.txt', 'img638.jpg', 'img621.jpg', 'img129.jpg', 'img900.txt', 'img1043.jpg', 'img1316.jpg', 'img310.txt', 'img971.txt', 'img484.jpg', 'img106.txt', 'img152.jpg', 'img191.jpg', 'img1104.jpg', 'img802.txt', 'img709.jpg', 'img1031.txt', 'img1209.jpg', 'img101.txt', 'img1118.txt', 'img1159.txt', 'img1179.jpg', 'img791.jpg', 'img645.jpg', 'img1421.jpg', 'img359.jpg', 'img530.txt', 'img770.txt', 'img899.txt', 'img1305.jpg', 'img750.txt', 'img1307.txt', 'img1081.jpg', 'img347.jpg', 'img15.jpg', 'img1427.txt', 'img1370.txt', 'img279.txt', 'img1212.jpg', 'img411.jpg', 'img449.txt', 'img615.jpg', 'img1175.txt', 'img639.jpg', 'img1183.jpg', 'img1004.txt', 'img739.txt', 'img1202.txt', 'img1242.jpg', 'img354.txt', 'img619.jpg', 'img1410.txt', 'img1121.txt', 'img14.jpg', 'img1330.txt', 'img928.txt', 'img668.jpg', 'img407.jpg', 'img341.jpg', 'img867.jpg', 'img1244.txt', 'img75.jpg', 'img1318.jpg', 'img17.txt', 'img1176.txt', 'img115.jpg', 'img1015.txt', 'img276.txt', 'img686.txt', 'img669.txt', 'img1166.txt', 'img181.jpg', 'img80.jpg', 'img1195.txt', 'img972.jpg', 'img578.txt', 'img300.jpg', 'img66.jpg', 'img29.jpg', 'img598.jpg', 'img646.jpg', 'img46.txt', 'img914.jpg', 'img1224.jpg', 'img219.jpg', 'img466.jpg', 'img189.jpg', 'img1424.txt', 'img547.txt', 'img707.txt', 'img1419.jpg', 'img522.jpg', 'img1145.jpg', 'img310.jpg', 'img495.jpg', 'img901.txt', 'img1239.txt', 'img526.jpg', 'img14.txt', 'img440.jpg', 'img452.txt', 'img205.txt', 'img163.jpg', 'img1301.jpg', 'img1204.txt', 'img1016.txt', 'img1240.jpg', 'img976.txt', 'img1136.txt', 'img84.txt', 'img630.txt', 'img13.txt', 'img880.txt', 'img65.txt', 'img585.jpg', 'img628.txt', 'img804.jpg', 'img68.txt', 'img553.jpg', 'img472.jpg', 'img237.txt', 'img69.jpg', 'img670.txt', 'img1426.jpg', 'img1358.txt', 'img618.jpg', 'img535.txt', 'img405.txt', 'img425.txt', 'img730.txt', 'img1153.txt', 'img32.jpg', 'img724.jpg', 'img1376.txt', 'img650.txt', 'img61.jpg', 'img202.txt', 'img955.jpg', 'img684.jpg', 'img218.jpg', 'img479.txt', 'img1058.txt', 'img394.txt', 'img1125.txt', 'img716.txt', 'img615.txt', 'img584.txt', 'img885.txt', 'img1333.txt', 'img611.jpg', 'img870.txt', 'img1063.txt', 'img111.jpg', 'img652.txt', 'img986.txt', 'img689.jpg', 'img1272.jpg', 'img1090.jpg', 'img367.jpg', 'img225.txt', 'img62.txt', 'img1287.jpg', 'img772.txt', 'img1062.txt', 'img427.txt', 'img382.jpg', 'img1124.jpg', 'img212.txt', 'img364.jpg', 'img638.txt', 'img1407.jpg', 'img1147.txt', 'img48.txt', 'img312.txt', 'img889.jpg', 'img590.jpg', 'img780.jpg', 'img267.jpg', 'img647.txt', 'img1426.txt', 'img322.txt', 'img1152.txt', 'img1394.txt', 'img887.txt', 'img819.txt', 'img397.txt', 'img983.txt', 'img502.txt', 'img614.txt', 'img471.jpg', 'img831.txt', 'img5.jpg', 'img755.txt', 'img749.txt', 'img135.jpg', 'img968.txt', 'img46.jpg', 'img41.txt', 'img132.txt', 'img123.txt', 'img150.txt', 'img489.jpg', 'img112.txt', 'img400.jpg', 'img682.txt', 'img771.jpg', 'img344.jpg', 'img577.jpg', 'img1189.txt', 'img1134.jpg', 'img1239.jpg', 'img829.jpg', 'img1425.txt', 'img1306.txt', 'img1159.jpg', 'img1299.txt', 'img99.txt', 'img317.jpg', 'img896.txt', 'img799.txt', 'img932.jpg', 'img12.txt', 'img185.jpg', 'img487.jpg', 'img178.jpg', 'img666.jpg', 'img720.jpg', 'img372.jpg', 'img724.txt', 'img1436.txt', 'img977.jpg', 'img935.txt', 'img371.txt', 'img589.txt', 'img249.txt', 'img1362.txt', 'img1423.jpg', 'img601.txt', 'img634.txt', 'img1346.txt', 'img67.jpg', 'img806.txt', 'img746.jpg', 'img369.jpg', 'img1241.jpg', 'img712.jpg', 'img550.txt', 'img710.txt', 'img318.jpg', 'img1226.txt', 'img214.txt', 'img103.txt', 'img865.txt', 'img1011.txt', 'img644.txt', 'img1282.txt', 'img1309.txt', 'img1065.jpg', 'img335.jpg', 'img1154.txt', 'img1250.jpg', 'img457.jpg', 'img1130.txt', 'img1027.jpg', 'img351.txt', 'img1384.jpg', 'img1404.jpg', 'img630.jpg', 'img1058.jpg', 'img513.jpg', 'img628.jpg', 'img201.jpg', 'img687.jpg', 'img1042.jpg', 'img1300.txt', 'img292.jpg', 'img1231.jpg', 'img390.txt', 'img567.jpg', 'img456.txt', 'img757.jpg', 'img530.jpg', 'img44.txt', 'img1307.jpg', 'img1408.jpg', 'img93.txt', 'img520.jpg', 'img299.jpg', 'img1033.txt', 'img141.txt', 'img1075.jpg', 'img252.jpg', 'img211.jpg', 'img1169.jpg', 'img867.txt', 'img406.jpg', 'img1430.txt', 'img299.txt', 'img254.txt', 'img219.txt', 'img557.jpg', 'img674.txt', 'img345.jpg', 'img1111.txt', 'img183.txt', 'img905.jpg', 'img375.jpg', 'img1183.txt', 'img1360.txt', 'img3.jpg', 'img753.txt', 'img143.txt', 'img250.txt', 'img512.jpg', 'img1295.txt', 'img1268.txt', 'img245.jpg', 'img4.jpg', 'img1045.txt', 'img950.jpg', 'img1201.jpg', 'img102.txt', 'img417.txt', 'img1388.jpg', 'img1261.txt', 'img1078.jpg', 'img1290.txt', 'img1256.txt', 'img603.txt', 'img1050.txt', 'img673.jpg', 'img1348.txt', 'img1372.jpg', 'img132.jpg', 'img356.txt', 'img542.jpg', 'img923.jpg', 'img115.txt', 'img922.txt', 'img1187.txt', 'img406.txt', 'img127.txt', 'img714.jpg', 'img380.txt', 'img691.txt', 'img1093.txt', 'img1435.txt', 'img1223.txt', 'img1236.jpg', 'img71.jpg', 'img884.jpg', 'img1358.jpg', 'img1099.txt', 'img1170.txt', 'img447.txt', 'img1385.txt', 'img374.txt', 'img641.txt', 'img393.jpg', 'img1406.jpg', 'img734.txt', 'img168.jpg', 'img1389.jpg', 'img1322.jpg', 'img1187.jpg', 'img546.txt', 'img824.jpg', 'img427.jpg', 'img1192.txt', 'img83.txt', 'img100.jpg', 'img616.jpg', 'img293.jpg', 'img597.jpg', 'img384.jpg', 'img145.jpg', 'img1429.txt', 'img977.txt', 'img496.jpg', 'img71.txt', 'img559.jpg', 'img339.txt', 'img216.jpg', 'img369.txt', 'img593.txt', 'img1369.jpg', 'img61.txt', 'img292.txt', 'img29.txt', 'img90.txt', 'img554.txt', 'img1413.txt', 'img1148.txt', 'img173.txt', 'img1229.txt', 'img1248.txt', 'img142.jpg', 'img311.txt', 'img350.txt', 'img145.txt', 'img91.jpg', 'img204.txt', 'img281.txt', 'img432.jpg', 'img804.txt', 'img511.txt', 'img1237.jpg', 'img845.txt', 'img1103.jpg', 'img1243.jpg', 'img381.txt', 'img21.txt', 'img563.txt', 'img433.txt', 'img1171.txt', 'img1077.txt', 'img199.txt', 'img886.jpg', 'img203.txt', 'img759.txt', 'img538.jpg', 'img898.txt', 'img1067.txt', 'img137.jpg', 'img848.jpg', 'img357.jpg', 'img357.txt', 'img1278.jpg', 'img1165.txt', 'img851.jpg', 'img560.jpg', 'img23.jpg', 'img1342.txt', 'img513.txt', 'img1353.txt', 'img1385.jpg', 'img44.jpg', 'img510.txt', 'img631.jpg', 'img24.txt', 'img1157.txt', 'img537.txt', 'img76.txt', 'img108.txt', 'img1137.txt', 'img573.jpg', 'img64.txt', 'img678.jpg', 'img558.jpg', 'img434.txt', 'img148.txt', 'img501.txt', 'img409.jpg', 'img1278.txt', 'img57.txt', 'img1337.txt', 'img535.jpg', 'img794.jpg', 'img1150.txt', 'img207.txt', 'img734.jpg', 'img619.txt', 'img1127.txt', 'img1262.jpg', 'img171.jpg', 'img1135.txt', 'img892.jpg', 'img1171.jpg', 'img617.txt', 'img119.txt', 'img782.jpg', 'img429.txt', 'img37.jpg', 'img929.txt', 'img590.txt', 'img979.txt', 'img1000.txt', 'img1262.txt', 'img817.jpg', 'img121.jpg', 'img1391.txt', 'img1118.jpg', 'img161.txt', 'img656.jpg', 'img1344.txt', 'img1056.txt', 'img43.jpg', 'img1352.jpg', 'img938.txt', 'img1031.jpg', 'img1368.txt', 'img96.txt', 'img1123.jpg', 'img320.jpg', 'img60.jpg', 'img1178.jpg', 'img308.jpg', 'img387.jpg', 'img1137.jpg', 'img1345.jpg', 'img629.jpg', 'img536.jpg', 'img1397.txt', 'img607.txt', 'img1163.txt', 'img1306.jpg', 'img609.txt', 'img458.jpg', 'img1296.txt', 'img371.jpg', 'img1210.jpg', 'img765.jpg', 'img239.jpg', 'img1019.jpg', 'img809.jpg', 'img841.jpg', 'img819.jpg', 'img520.txt', 'img468.jpg', 'img465.jpg', 'img436.jpg', 'img713.jpg', 'img718.txt', 'img404.txt', 'img807.txt', 'img1100.jpg', 'img705.jpg', 'img1032.jpg', 'img868.txt', 'img737.txt', 'img1014.txt', 'img485.jpg', 'img222.jpg', 'img869.jpg', 'img701.jpg', 'img1225.txt', 'img122.jpg', 'img775.txt', 'img1400.txt', 'img49.jpg', 'img892.txt', 'img1368.jpg', 'img1096.jpg', 'img1341.txt', 'img1130.jpg', 'img1068.jpg', 'img354.jpg', 'img55.jpg', 'img617.jpg', 'img911.jpg', 'img214.jpg', 'img231.txt', 'img942.txt', 'img891.txt', 'img441.jpg', 'img228.txt', 'img78.jpg', 'img437.txt', 'img399.jpg', 'img1162.txt', 'img994.txt', 'img1070.jpg', 'img708.txt', 'img828.txt', 'img67.txt', 'img1212.txt', 'img1428.txt', 'img270.jpg', 'img135.txt', 'img340.txt', 'img1054.jpg', 'img1250.txt', 'img565.txt', 'img361.txt', 'img758.jpg', 'img1242.txt', 'img865.jpg', 'img1040.jpg', 'img1244.jpg', 'img549.jpg', 'img108.jpg', 'img849.jpg', 'img1312.jpg', 'img1329.txt', 'img1044.txt', 'img695.txt', 'img1381.jpg', 'img507.txt', 'img841.txt', 'img1053.txt', 'img1439.txt', 'img420.txt', 'img949.txt', 'img733.txt', 'img161.jpg', 'img1089.txt', 'img526.txt', 'img1026.jpg', 'img1235.txt', 'img1392.jpg', 'img1338.txt', 'img367.txt', 'img1117.txt', 'img400.txt', 'img288.txt', 'img890.txt', 'img730.jpg', 'img1230.jpg', 'img923.txt', 'img22.jpg', 'img287.txt', 'img1271.txt', 'img1203.txt', 'img781.jpg', 'img1291.txt', 'img834.jpg', 'img174.txt', 'img442.jpg', 'img1238.txt', 'img215.txt', 'img1439.jpg', 'img516.txt', 'img840.txt', 'img193.jpg', 'img294.jpg', 'img1097.jpg', 'img95.jpg', 'img571.jpg', 'img229.txt', 'img125.jpg', 'img30.jpg', 'img766.txt', 'img297.txt', 'img1257.txt', 'img845.jpg', 'img1129.txt', 'img957.txt', 'img346.txt', 'img1247.txt', 'img1100.txt', 'img521.txt', 'img54.txt', 'img538.txt', 'img1363.txt', 'img231.jpg', 'img487.txt', 'img494.txt', 'img70.jpg', 'img642.jpg', 'img1076.txt', 'img843.txt', 'img378.jpg', 'img1371.jpg', 'img74.txt', 'img772.jpg', 'img1086.txt', 'img19.jpg', 'img1123.txt', 'img469.txt', 'img985.txt', 'img1010.jpg', 'img984.txt', 'img419.jpg', 'img383.txt', 'img486.jpg', 'img806.jpg', 'img333.jpg', 'img1316.txt', 'img790.txt', 'img1287.txt', 'img905.txt', 'img334.jpg', 'img291.jpg', 'img1110.jpg', 'img1361.txt', 'img506.jpg', 'img90.jpg', 'img1427.jpg', 'img1056.jpg', 'img1305.txt', 'img494.jpg', 'img402.jpg', 'img288.jpg', 'img878.txt', 'img283.jpg', 'img347.txt', 'img1284.jpg', 'img34.txt', 'img1357.txt', 'img677.txt', 'img710.jpg', 'img654.jpg', 'img319.txt', 'img1383.jpg', 'img137.txt', 'img833.txt', 'img443.jpg', 'img65.jpg', 'img698.txt', 'img678.txt', 'img1396.txt', 'img1249.jpg', 'img6.jpg', 'img253.jpg', 'img109.jpg', 'img674.jpg', 'img762.txt', 'img1422.jpg', 'img856.jpg', 'img1087.jpg', 'img443.txt', 'img1217.txt', 'img393.txt', 'img394.jpg', 'img423.jpg', 'img404.jpg', 'img1065.txt', 'img508.jpg', 'img1151.txt', 'img355.txt', 'img1389.txt', 'img1169.txt', 'img1128.jpg', 'img454.jpg', 'img387.txt', 'img477.jpg', 'img176.jpg', 'img830.jpg', 'img801.txt', 'img1412.txt', 'img658.jpg', 'img1246.jpg', 'img316.jpg', 'img2.txt', 'img1021.jpg', 'img1099.jpg', 'img222.txt', 'img1393.txt', 'img1291.jpg', 'img891.jpg', 'img198.txt', 'img541.jpg', 'img221.jpg', 'img815.jpg', 'img816.txt', 'img180.jpg', 'img993.txt', 'img168.txt', 'img765.txt', 'img782.txt', 'img571.txt', 'img1346.jpg', 'img1237.txt', 'img714.txt', 'img762.jpg', 'img1132.txt', 'img826.txt', 'img786.jpg', 'img110.txt', 'img1084.txt', 'img38.jpg', 'img116.txt', 'img965.txt', 'img980.jpg', 'img546.jpg', 'img164.txt', 'img948.txt', 'img871.jpg', 'img1090.txt', 'img1141.jpg', 'img812.txt', 'img792.jpg', 'img1002.jpg', 'img466.txt', 'img713.txt', 'img1418.txt', 'img187.txt', 'img415.jpg', 'img307.txt', 'img862.txt', 'img1028.jpg', 'img389.jpg', 'img706.jpg', 'img1182.txt', 'img729.txt', 'img180.txt', 'img139.txt', 'img774.txt', 'img808.jpg', 'img1297.txt', 'img198.jpg', 'img627.jpg', 'img25.txt', 'img934.jpg', 'img26.jpg', 'img852.jpg', 'img1396.jpg', 'img1126.jpg', 'img1258.txt', 'img213.jpg', 'img1037.txt', 'img331.txt', 'img140.txt', 'img1103.txt', 'img457.txt', 'img564.jpg', 'img448.jpg', 'img850.jpg', 'img640.txt', 'img1380.jpg', 'img783.txt', 'img233.jpg', 'img679.txt', 'img753.jpg', 'img73.jpg', 'img583.txt', 'img384.txt', 'img947.jpg', 'img919.txt', 'img1125.jpg', 'img1347.jpg', 'img23.txt', 'img902.txt', 'img1218.txt', 'img1372.txt', 'img554.jpg', 'img56.jpg', 'img88.jpg', 'img750.jpg', 'img376.txt', 'img1380.txt', 'img311.jpg', 'img528.jpg', 'img467.txt', 'img329.jpg', 'img1285.txt', 'img1142.txt', 'img313.txt', 'img114.jpg', 'img230.jpg', 'img959.txt', 'img1415.txt', 'img13.jpg', 'img968.jpg', 'img106.jpg', 'img368.jpg', 'img334.txt', 'img1414.jpg', 'img748.jpg', 'img221.txt', 'img195.txt', 'img1007.jpg', 'img1.jpg', 'img1110.txt', 'img378.txt', 'img25.jpg', 'img998.txt', 'img230.txt', 'img1001.txt', 'img1091.txt', 'img1350.jpg', 'img1336.txt', 'img997.txt', 'img703.jpg', 'img329.txt', 'img1217.jpg', 'img386.jpg', 'img250.jpg', 'img1061.txt', 'img391.jpg', 'img488.txt', 'img645.txt', 'img572.txt', 'img1379.jpg', 'img864.jpg', 'img444.jpg', 'img261.jpg', 'img47.txt', 'img1228.jpg', 'img596.txt', 'img1277.txt', 'img127.jpg', 'img1440.jpg', 'img1074.jpg', 'img76.jpg', 'img1275.txt', 'img1035.txt', 'img498.txt', 'img1355.txt', 'img54.jpg', 'img608.jpg', 'img337.txt', 'img1428.jpg', 'img1279.txt', 'img588.jpg', 'img769.jpg', 'img664.txt', 'img31.txt', 'img1154.jpg', 'img770.jpg', 'img276.jpg', 'img527.jpg', 'img1200.jpg', 'img1284.txt', 'img397.jpg', 'img882.jpg', 'img917.txt', 'img574.txt', 'img1420.txt', 'img265.txt', 'img899.jpg', 'img456.jpg', 'img793.txt', 'img962.txt', 'img117.txt', 'img1012.txt', 'img309.jpg', 'img289.txt', 'img402.txt', 'img504.txt', 'img281.jpg', 'img1066.txt', 'img1243.txt', 'img635.jpg', 'img596.jpg', 'img240.jpg', 'img604.jpg', 'img504.jpg', 'img708.jpg', 'img414.txt', 'img1179.txt', 'img262.txt', 'img1320.txt', 'img1381.txt', 'img1418.jpg', 'img650.jpg', 'img488.jpg', 'img84.jpg', 'img100.txt', 'img462.jpg', 'img624.jpg', 'img1016.jpg', 'img166.txt', 'img656.txt', 'img1008.txt', 'img486.txt', 'img429.jpg', 'img562.jpg', 'img306.jpg', 'img1139.txt', 'img380.jpg', 'img581.txt', 'img1351.jpg', 'img625.txt', 'img1365.txt', 'img1047.txt', 'img515.jpg', 'img1253.txt', 'img107.jpg', 'img1092.jpg', 'img533.txt', 'img1413.jpg', 'img829.txt', 'img293.txt', 'img248.jpg', 'img469.jpg', 'img325.txt', 'img1003.txt', 'img556.jpg', 'img196.txt', 'img1200.txt', 'img873.jpg', 'img208.jpg', 'img1051.jpg', 'img995.txt', 'img592.jpg', 'img623.jpg', 'img11.jpg', 'img1257.jpg', 'img825.jpg', 'img725.txt', 'img497.jpg', 'img321.txt', 'img355.jpg', 'img641.jpg', 'img655.jpg', 'img79.jpg', 'img1140.txt', 'img1259.jpg', 'img146.txt', 'img442.txt', 'img531.jpg', 'img952.jpg', 'img1344.jpg', 'img468.txt', 'img738.txt', 'img179.txt', 'img472.txt', 'img1411.txt', 'img181.txt', 'img768.txt', 'img304.txt', 'img49.txt', 'img519.txt', 'img830.txt', 'img850.txt', 'img798.txt', 'img1021.txt', 'img1253.jpg', 'img933.txt', 'img425.jpg', 'img1009.jpg', 'img986.jpg', 'img594.txt', 'img824.txt', 'img1233.jpg', 'img1394.jpg', 'img863.txt', 'img785.jpg', 'img272.txt', 'img483.jpg', 'img1001.jpg', 'img1081.txt', 'img1215.jpg', 'img890.jpg', 'img8.jpg', 'img1093.jpg', 'img87.txt', 'img937.jpg', 'img974.txt', 'img1195.jpg', 'img207.jpg', 'img274.txt', 'img291.txt', 'img1043.txt', 'img242.txt', 'img1382.txt', 'img1166.jpg', 'img162.txt', 'img570.jpg', 'img428.txt', 'img146.jpg', 'img945.jpg', 'img883.txt', 'img635.txt', 'img1388.txt', 'img873.txt', 'img1432.txt', 'img748.txt', 'img889.txt', 'img879.jpg', 'img1005.jpg', 'img131.jpg', 'img227.jpg', 'img31.jpg', 'img389.txt', 'img346.jpg', 'img116.jpg', 'img492.txt', 'img460.txt', 'img35.jpg', 'img758.txt', 'img1078.txt', 'img707.jpg', 'img439.jpg', 'img398.jpg', 'img264.txt', 'img295.jpg', 'img589.jpg', 'img327.txt', 'img53.txt', 'img1202.jpg', 'img1266.txt', 'img853.txt', 'img1174.txt', 'img74.jpg', 'img609.jpg', 'img1079.txt', 'img847.txt', 'img778.jpg', 'img901.jpg', 'img1399.txt', 'img298.jpg', 'img1352.txt', 'img284.jpg', 'img166.jpg', 'img196.jpg', 'img529.jpg', 'img450.jpg', 'img1189.jpg', 'img117.jpg', 'img33.txt', 'img441.txt', 'img859.jpg', 'img1034.txt', 'img224.txt', 'img893.txt', 'img110.jpg', 'img696.jpg', 'img167.jpg', 'img908.jpg', 'img257.txt', 'img1156.txt', 'img233.txt', 'img478.jpg', 'img158.jpg', 'img26.txt', 'img679.jpg', 'img1044.jpg', 'img458.txt', 'img1312.txt', 'img1407.txt', 'img444.txt', 'img366.jpg', 'img50.jpg', 'img124.txt', 'img608.txt', 'img606.txt', 'img1114.jpg', 'img202.jpg', 'img1072.txt', 'img352.jpg', 'img277.jpg', 'img129.txt', 'img1424.jpeg', 'img349.txt', 'img545.jpg', 'img915.txt', 'img788.txt', 'img438.txt', 'img1126.txt', 'img1182.jpg', 'img496.txt', 'img294.txt', 'img379.txt', 'img445.jpg', 'img417.jpg', 'img949.jpg', 'img780.txt', 'img1379.txt', 'img1336.jpg', 'img916.jpg', 'img330.jpg', 'img1168.txt', 'img1318.txt', 'img918.jpg', 'img322.jpg', 'img832.txt', 'img1314.txt', 'img208.txt', 'img499.txt', 'img795.jpg', 'img171.txt', 'img287.jpg', 'img602.txt', 'img407.txt', 'img798.jpg', 'img523.txt', 'img1207.txt', 'img41.jpg', 'img1395.jpg', 'img818.jpg', 'img580.jpg', 'img945.txt', 'img969.jpg', 'img963.txt', 'img1433.txt', 'img173.jpg', 'img1437.txt', 'img121.txt', 'img1404.txt', 'img552.txt', 'img1364.jpg', 'img887.jpg', 'img471.txt', 'img1141.txt', 'img695.jpg', 'img542.txt', 'img1359.jpg', 'img1259.txt', 'img1010.txt', 'img1323.jpg', 'img757.txt', 'img169.jpg', 'img1238.jpg', 'img1035.jpg', 'img1408.txt', 'img946.txt', 'img138.jpg', 'img874.txt', 'img876.txt', 'img373.jpg', 'img80.txt', 'img709.txt', 'img659.txt', 'img370.jpg', 'img301.jpg', 'img1269.txt', 'img105.txt', 'img875.txt', 'img601.jpg', 'img719.txt', 'img555.txt', 'img307.jpg', 'img1340.txt', 'img1367.txt', 'img827.jpg', 'img370.txt', 'img1069.txt', 'img846.txt', 'img1025.jpg', 'img34.jpg', 'img928.jpg', 'img1158.jpg', 'img551.txt', 'img136.txt', 'img942.jpg', 'img1387.jpg', 'img689.txt', 'img190.txt', 'img401.txt', 'img290.txt', 'img957.jpg', 'img422.txt', 'img964.txt', 'img517.jpg', 'img1258.jpg', 'img1298.txt', 'img157.txt', 'img1140.jpg', 'img1260.txt', 'img94.txt', 'img438.jpg', 'img363.jpg', 'img266.jpg', 'img124.jpg', 'img453.jpg', 'img1006.txt', 'img633.jpg', 'img584.jpg', 'img218.txt', 'img1437.jpg', 'img10.txt', 'img1194.txt', 'img805.jpg', 'img149.txt', 'img316.txt', 'img667.txt', 'img623.txt', 'img1251.txt', 'img398.txt', 'img960.txt', 'img671.txt', 'img470.jpg', 'img586.jpg', 'img1431.jpg', 'img280.txt', 'img459.txt', 'img1222.txt', 'img633.txt', 'img360.jpg', 'img464.jpg', 'img857.txt', 'img1207.jpg', 'img102.jpg', 'img1211.jpg', 'img20.jpg', 'img983.jpg', 'img144.txt', 'img683.txt', 'img92.txt', 'img68.jpg', 'img618.txt', 'img408.jpg', 'img657.txt', 'img654.txt', 'img78.txt', 'img569.txt', 'img1283.jpg', 'img545.txt', 'img764.txt', 'img283.txt', 'img667.jpg', 'img882.txt', 'img1129.jpg', 'img1373.txt', 'img505.txt', 'img1049.txt', 'img555.jpg', 'img256.jpg', 'img268.txt', 'img182.jpg', 'img767.jpg', 'img1167.txt', 'img583.jpg', 'img403.txt', 'img259.jpg', 'img1335.txt', 'img1133.jpg', 'img670.jpg', 'img1060.jpg', 'img155.jpg', 'img572.jpg', 'img1113.txt', 'img1313.txt', 'img32.txt', 'img325.jpg', 'img820.jpg', 'img704.jpg', 'img821.txt', 'img712.txt', 'img1196.txt', 'img1193.jpg', 'img1331.jpg', 'img332.txt', 'img255.txt', 'img507.jpg', 'img358.txt', 'img257.jpg', 'img789.txt', 'img1059.txt', 'img561.jpg', 'img534.txt', 'img943.jpg', 'img835.txt', 'img878.jpg', 'img151.txt', 'img518.txt', 'img802.jpg', 'img1190.txt', 'img1431.txt', 'img1199.txt', 'img120.txt', 'img82.txt', 'img970.txt', 'img1302.txt', 'img1406.txt', 'img669.jpg', 'img1022.txt', 'img156.jpg', 'img791.txt', 'img45.txt', 'img752.txt', 'img460.jpg', 'img261.txt', 'img1220.jpg', 'img377.jpg', 'img697.jpg', 'img693.jpg', 'img1085.jpg', 'img467.jpg', 'img738.jpg', 'img228.jpg', 'img1156.jpg', 'img22.txt', 'img1367.jpg', 'img328.txt', 'img1276.txt', 'img86.jpg', 'img1310.txt', 'img1339.txt', 'img492.jpg', 'img1018.txt', 'img1120.jpg', 'img253.txt', 'img58.txt', 'img1332.jpg', 'img72.jpg', 'img172.txt', 'img1266.jpg', 'img391.txt', 'img1256.jpg', 'img1410.jpg', 'img1181.jpg', 'img193.txt', 'img1245.txt', 'img392.jpg', 'img1032.txt', 'img637.jpg', 'img587.jpg', 'img573.txt', 'img1201.txt', 'img1436.jpg', 'img611.txt', 'img1104.txt', 'img1101.jpg', 'img386.txt', 'img1017.txt', 'img606.jpg', 'img632.jpg', 'img1251.jpg', 'img839.jpg', 'img543.txt', 'img779.txt', 'img612.txt', 'img1197.txt', 'img1117.jpg', 'img1188.txt', 'img1014.jpg', 'img241.txt', 'img1109.txt', 'img662.txt', 'img1417.txt', 'img746.txt', 'img958.txt', 'img810.txt', 'img1208.txt', 'img96.jpg', 'img238.txt', 'img688.txt', 'img282.txt', 'img1282.jpg', 'img716.jpg', 'img688.jpg', 'img883.jpg', 'img539.txt', 'img907.txt', 'img1308.txt', 'img134.txt', 'img176.txt', 'img192.txt', 'img936.txt', 'img362.txt', 'img1283.txt', 'img823.txt', 'img213.txt', 'img430.jpg', 'img1045.jpg', 'img223.jpg', 'img474.txt', 'img104.jpg', 'img936.jpg', 'img321.jpg', 'img1069.jpg', 'img548.txt', 'img1009.txt', 'img97.txt', 'img63.jpg', 'img177.txt', 'img215.jpg', 'img614.jpg', 'img924.txt', 'img744.txt', 'img203.jpg', 'img955.txt', 'img1107.txt', 'img595.jpg', 'img534.jpg', 'img1076.jpg', 'img361.jpg', 'img1030.txt', 'img485.txt', 'img366.txt', 'img1024.txt', 'img690.jpg', 'img1267.txt', 'img682.jpg', 'img439.txt', 'img1286.txt', 'img906.txt', 'img186.jpg', 'img847.jpg', 'img1215.txt', 'img694.txt', 'img241.jpg', 'img269.txt', 'img249.jpg', 'img506.txt', 'img1050.jpg', 'img1362.jpg', 'img62.jpg', 'img692.txt', 'img53.jpg', 'img991.txt', 'img47.jpg', 'img500.jpg', 'img1138.txt', 'img856.txt', 'img648.jpg', 'img1386.txt', 'img385.txt', 'img8.txt', 'img862.jpg', 'img232.jpg', 'img1115.jpg', 'img275.jpg', 'img410.jpg', 'img992.txt', 'img160.txt', 'img978.jpg', 'img723.txt', 'img978.txt', 'img163.txt', 'img556.txt', 'img993.jpg', 'img19.txt', 'img51.txt', 'img774.jpg', 'img353.txt', 'img262.jpg', 'img125.txt', 'img99.jpg', 'img1039.txt', 'img1074.txt', 'img675.jpg', 'img1230.txt', 'img153.jpg', 'img64.jpg', 'img562.txt', 'img130.txt', 'img1374.txt', 'img622.txt', 'img1092.txt', 'img980.txt', 'img157.jpg', 'img727.txt', 'img95.txt', 'img524.txt', 'img514.txt', 'img1417.jpg', 'img866.txt', 'img602.jpg', 'img1337.jpg', 'img592.txt', 'img313.jpg', 'img179.jpg', 'img701.txt', 'img569.jpg', 'img323.txt', 'img174.jpg', 'img448.txt', 'img499.jpg', 'img548.jpg', 'img741.jpg', 'img996.txt', 'img1180.txt', 'img358.jpg', 'img908.txt', 'img156.txt', 'img597.txt', 'img703.txt', 'img665.jpg', 'img1083.txt', 'img626.jpg', 'img94.jpg', 'img559.txt', 'img1401.txt', 'img240.txt', 'img992.jpg', 'img773.jpg', 'img532.jpg', 'img594.jpg', 'img828.jpg', 'img243.txt', 'img1157.jpg', 'img1019.txt', 'img808.txt', 'img265.jpg', 'img1023.txt', 'img1219.txt', 'img1005.txt', 'img775.jpg']\n"
          ]
        }
      ]
    },
    {
      "cell_type": "code",
      "source": [
        "# Pick any mask .txt file to explore\n",
        "with open(\"/kaggle/input/skin-burn-dataset/img560.txt\") as f:\n",
        "    content = f.read()\n",
        "\n",
        "print(\"Sample content:\\n\", content)\n"
      ],
      "metadata": {
        "colab": {
          "base_uri": "https://localhost:8080/"
        },
        "id": "BH1Zrukv_1NS",
        "outputId": "e7ebbc0c-1898-4240-a2d6-9a70e7e974f1"
      },
      "execution_count": 15,
      "outputs": [
        {
          "output_type": "stream",
          "name": "stdout",
          "text": [
            "Sample content:\n",
            " 1 0.46653543307086615 0.5125628140703518 0.3425196850393701 0.5326633165829145\n",
            "\n"
          ]
        }
      ]
    },
    {
      "cell_type": "code",
      "source": [
        "import numpy as np\n",
        "from PIL import Image\n",
        "\n",
        "def bbox_to_mask(bbox, img_width, img_height):\n",
        "    # bbox = [class_id, x_center, y_center, width, height] normalized\n",
        "    _, x_center, y_center, w, h = bbox\n",
        "\n",
        "    # Convert normalized to pixel coordinates\n",
        "    x_center *= img_width\n",
        "    y_center *= img_height\n",
        "    w *= img_width\n",
        "    h *= img_height\n",
        "\n",
        "    x_min = int(x_center - w/2)\n",
        "    y_min = int(y_center - h/2)\n",
        "    x_max = int(x_center + w/2)\n",
        "    y_max = int(y_center + h/2)\n",
        "\n",
        "    mask = np.zeros((img_height, img_width), dtype=np.uint8)\n",
        "    mask[y_min:y_max, x_min:x_max] = 1\n",
        "\n",
        "    return mask\n",
        "\n",
        "# Example usage\n",
        "img_path = \"/kaggle/input/skin-burn-dataset/img1194.jpg\"\n",
        "img = Image.open(img_path)\n",
        "w, h = img.size\n",
        "\n",
        "bbox = [1, 0.4665, 0.5125, 0.3425, 0.5326]  # example from txt content\n",
        "mask = bbox_to_mask(bbox, w, h)\n",
        "\n",
        "Image.fromarray(mask*255).show()  # show the mask image\n"
      ],
      "metadata": {
        "id": "kKv7eZCf_87e"
      },
      "execution_count": 17,
      "outputs": []
    },
    {
      "cell_type": "code",
      "source": [
        "import os\n",
        "import numpy as np\n",
        "from glob import glob\n",
        "from PIL import Image\n",
        "import tensorflow as tf\n",
        "from tensorflow.keras.layers import Input, Conv2D, MaxPooling2D, Conv2DTranspose, concatenate\n",
        "from tensorflow.keras.models import Model\n",
        "from tensorflow.keras.preprocessing.image import load_img, img_to_array\n",
        "\n",
        "# --- Paths ---\n",
        "dataset_path = \"/kaggle/input/skin-burn-dataset\"\n",
        "image_paths = sorted(glob(os.path.join(dataset_path, \"*.jpg\")))\n",
        "txt_paths = sorted(glob(os.path.join(dataset_path, \"*.txt\")))\n",
        "\n",
        "# --- Parameters ---\n",
        "IMG_SIZE = 128\n",
        "\n",
        "# --- Function to convert YOLO bbox txt annotation to mask ---\n",
        "def bbox_to_mask(bbox, img_width, img_height):\n",
        "    # bbox = [class_id, x_center, y_center, width, height] normalized\n",
        "    _, x_center, y_center, w, h = bbox\n",
        "\n",
        "    x_center *= img_width\n",
        "    y_center *= img_height\n",
        "    w *= img_width\n",
        "    h *= img_height\n",
        "\n",
        "    x_min = int(max(x_center - w / 2, 0))\n",
        "    y_min = int(max(y_center - h / 2, 0))\n",
        "    x_max = int(min(x_center + w / 2, img_width))\n",
        "    y_max = int(min(y_center + h / 2, img_height))\n",
        "\n",
        "    mask = np.zeros((img_height, img_width), dtype=np.uint8)\n",
        "    mask[y_min:y_max, x_min:x_max] = 1\n",
        "    return mask\n",
        "\n",
        "# --- Load one annotation file and convert all bboxes to one mask ---\n",
        "def load_mask(txt_file, img_width, img_height):\n",
        "    mask = np.zeros((img_height, img_width), dtype=np.uint8)\n",
        "    with open(txt_file, \"r\") as f:\n",
        "        lines = f.readlines()\n",
        "        for line in lines:\n",
        "            parts = line.strip().split()\n",
        "            bbox = list(map(float, parts))\n",
        "            single_mask = bbox_to_mask(bbox, img_width, img_height)\n",
        "            mask = np.maximum(mask, single_mask)  # combine all bboxes\n",
        "    return mask\n",
        "\n",
        "# --- Load all data ---\n",
        "def load_data(image_paths, txt_paths, img_size=IMG_SIZE):\n",
        "    X, Y = [], []\n",
        "    for img_path, txt_path in zip(image_paths, txt_paths):\n",
        "        # Load and resize image\n",
        "        img = load_img(img_path, target_size=(img_size, img_size))\n",
        "        img_arr = img_to_array(img) / 255.0\n",
        "\n",
        "        # Original image size for mask\n",
        "        orig_img = Image.open(img_path)\n",
        "        orig_w, orig_h = orig_img.size\n",
        "\n",
        "        # Load and resize mask\n",
        "        mask = load_mask(txt_path, orig_w, orig_h)\n",
        "        mask_img = Image.fromarray(mask * 255).resize((img_size, img_size))\n",
        "        mask_arr = np.array(mask_img) / 255.0\n",
        "        mask_arr = np.expand_dims(mask_arr, axis=-1)  # add channel dim\n",
        "\n",
        "        X.append(img_arr)\n",
        "        Y.append(mask_arr)\n",
        "\n",
        "    return np.array(X), np.array(Y)\n",
        "\n",
        "# --- Build U-Net model ---\n",
        "def unet(input_size=(IMG_SIZE, IMG_SIZE, 3)):\n",
        "    inputs = Input(input_size)\n",
        "\n",
        "    # Encoder\n",
        "    c1 = Conv2D(16, 3, activation='relu', padding='same')(inputs)\n",
        "    c1 = Conv2D(16, 3, activation='relu', padding='same')(c1)\n",
        "    p1 = MaxPooling2D()(c1)\n",
        "\n",
        "    c2 = Conv2D(32, 3, activation='relu', padding='same')(p1)\n",
        "    c2 = Conv2D(32, 3, activation='relu', padding='same')(c2)\n",
        "    p2 = MaxPooling2D()(c2)\n",
        "\n",
        "    c3 = Conv2D(64, 3, activation='relu', padding='same')(p2)\n",
        "    c3 = Conv2D(64, 3, activation='relu', padding='same')(c3)\n",
        "    p3 = MaxPooling2D()(c3)\n",
        "\n",
        "    c4 = Conv2D(128, 3, activation='relu', padding='same')(p3)\n",
        "    c4 = Conv2D(128, 3, activation='relu', padding='same')(c4)\n",
        "    p4 = MaxPooling2D()(c4)\n",
        "\n",
        "    # Bottleneck\n",
        "    c5 = Conv2D(256, 3, activation='relu', padding='same')(p4)\n",
        "    c5 = Conv2D(256, 3, activation='relu', padding='same')(c5)\n",
        "\n",
        "    # Decoder\n",
        "    u6 = Conv2DTranspose(128, 2, strides=2, padding='same')(c5)\n",
        "    u6 = concatenate([u6, c4])\n",
        "    c6 = Conv2D(128, 3, activation='relu', padding='same')(u6)\n",
        "    c6 = Conv2D(128, 3, activation='relu', padding='same')(c6)\n",
        "\n",
        "    u7 = Conv2DTranspose(64, 2, strides=2, padding='same')(c6)\n",
        "    u7 = concatenate([u7, c3])\n",
        "    c7 = Conv2D(64, 3, activation='relu', padding='same')(u7)\n",
        "    c7 = Conv2D(64, 3, activation='relu', padding='same')(c7)\n",
        "\n",
        "    u8 = Conv2DTranspose(32, 2, strides=2, padding='same')(c7)\n",
        "    u8 = concatenate([u8, c2])\n",
        "    c8 = Conv2D(32, 3, activation='relu', padding='same')(u8)\n",
        "    c8 = Conv2D(32, 3, activation='relu', padding='same')(c8)\n",
        "\n",
        "    u9 = Conv2DTranspose(16, 2, strides=2, padding='same')(c8)\n",
        "    u9 = concatenate([u9, c1])\n",
        "    c9 = Conv2D(16, 3, activation='relu', padding='same')(u9)\n",
        "    c9 = Conv2D(16, 3, activation='relu', padding='same')(c9)\n",
        "\n",
        "    outputs = Conv2D(1, 1, activation='sigmoid')(c9)\n",
        "\n",
        "    model = Model(inputs=inputs, outputs=outputs)\n",
        "    return model\n",
        "\n",
        "# --- Main ---\n",
        "\n",
        "# Load data\n",
        "X, Y = load_data(image_paths, txt_paths, IMG_SIZE)\n",
        "print(f\"Loaded {len(X)} samples.\")\n",
        "\n",
        "# Build and compile model\n",
        "model = unet()\n",
        "model.compile(optimizer='adam', loss='binary_crossentropy', metrics=['accuracy'])\n",
        "\n",
        "# Train model\n",
        "history = model.fit(X, Y, epochs=20, batch_size=8, validation_split=0.2)\n"
      ],
      "metadata": {
        "colab": {
          "base_uri": "https://localhost:8080/"
        },
        "id": "pAbWOhZZAMGa",
        "outputId": "d1be819d-1eef-4da2-e6b6-1826a7886cb0"
      },
      "execution_count": 18,
      "outputs": [
        {
          "output_type": "stream",
          "name": "stdout",
          "text": [
            "Loaded 1225 samples.\n",
            "Epoch 1/20\n",
            "\u001b[1m123/123\u001b[0m \u001b[32m━━━━━━━━━━━━━━━━━━━━\u001b[0m\u001b[37m\u001b[0m \u001b[1m184s\u001b[0m 1s/step - accuracy: 0.7587 - loss: 0.5674 - val_accuracy: 0.8415 - val_loss: 0.4290\n",
            "Epoch 2/20\n",
            "\u001b[1m123/123\u001b[0m \u001b[32m━━━━━━━━━━━━━━━━━━━━\u001b[0m\u001b[37m\u001b[0m \u001b[1m193s\u001b[0m 1s/step - accuracy: 0.7740 - loss: 0.5008 - val_accuracy: 0.8415 - val_loss: 0.3690\n",
            "Epoch 3/20\n",
            "\u001b[1m123/123\u001b[0m \u001b[32m━━━━━━━━━━━━━━━━━━━━\u001b[0m\u001b[37m\u001b[0m \u001b[1m164s\u001b[0m 1s/step - accuracy: 0.7790 - loss: 0.4330 - val_accuracy: 0.8407 - val_loss: 0.4031\n",
            "Epoch 4/20\n",
            "\u001b[1m123/123\u001b[0m \u001b[32m━━━━━━━━━━━━━━━━━━━━\u001b[0m\u001b[37m\u001b[0m \u001b[1m211s\u001b[0m 1s/step - accuracy: 0.7835 - loss: 0.4318 - val_accuracy: 0.8414 - val_loss: 0.3677\n",
            "Epoch 5/20\n",
            "\u001b[1m123/123\u001b[0m \u001b[32m━━━━━━━━━━━━━━━━━━━━\u001b[0m\u001b[37m\u001b[0m \u001b[1m168s\u001b[0m 1s/step - accuracy: 0.7825 - loss: 0.4285 - val_accuracy: 0.8367 - val_loss: 0.3776\n",
            "Epoch 6/20\n",
            "\u001b[1m123/123\u001b[0m \u001b[32m━━━━━━━━━━━━━━━━━━━━\u001b[0m\u001b[37m\u001b[0m \u001b[1m200s\u001b[0m 1s/step - accuracy: 0.7811 - loss: 0.4318 - val_accuracy: 0.8220 - val_loss: 0.3681\n",
            "Epoch 7/20\n",
            "\u001b[1m123/123\u001b[0m \u001b[32m━━━━━━━━━━━━━━━━━━━━\u001b[0m\u001b[37m\u001b[0m \u001b[1m200s\u001b[0m 1s/step - accuracy: 0.7808 - loss: 0.4286 - val_accuracy: 0.8064 - val_loss: 0.3849\n",
            "Epoch 8/20\n",
            "\u001b[1m123/123\u001b[0m \u001b[32m━━━━━━━━━━━━━━━━━━━━\u001b[0m\u001b[37m\u001b[0m \u001b[1m201s\u001b[0m 1s/step - accuracy: 0.7919 - loss: 0.4154 - val_accuracy: 0.7977 - val_loss: 0.3800\n",
            "Epoch 9/20\n",
            "\u001b[1m123/123\u001b[0m \u001b[32m━━━━━━━━━━━━━━━━━━━━\u001b[0m\u001b[37m\u001b[0m \u001b[1m203s\u001b[0m 1s/step - accuracy: 0.7817 - loss: 0.4271 - val_accuracy: 0.8280 - val_loss: 0.3627\n",
            "Epoch 10/20\n",
            "\u001b[1m123/123\u001b[0m \u001b[32m━━━━━━━━━━━━━━━━━━━━\u001b[0m\u001b[37m\u001b[0m \u001b[1m212s\u001b[0m 1s/step - accuracy: 0.7823 - loss: 0.4266 - val_accuracy: 0.8412 - val_loss: 0.3641\n",
            "Epoch 11/20\n",
            "\u001b[1m123/123\u001b[0m \u001b[32m━━━━━━━━━━━━━━━━━━━━\u001b[0m\u001b[37m\u001b[0m \u001b[1m166s\u001b[0m 1s/step - accuracy: 0.7840 - loss: 0.4236 - val_accuracy: 0.8180 - val_loss: 0.3690\n",
            "Epoch 12/20\n",
            "\u001b[1m123/123\u001b[0m \u001b[32m━━━━━━━━━━━━━━━━━━━━\u001b[0m\u001b[37m\u001b[0m \u001b[1m201s\u001b[0m 1s/step - accuracy: 0.7832 - loss: 0.4238 - val_accuracy: 0.8142 - val_loss: 0.3802\n",
            "Epoch 13/20\n",
            "\u001b[1m123/123\u001b[0m \u001b[32m━━━━━━━━━━━━━━━━━━━━\u001b[0m\u001b[37m\u001b[0m \u001b[1m200s\u001b[0m 1s/step - accuracy: 0.7867 - loss: 0.4214 - val_accuracy: 0.8298 - val_loss: 0.3648\n",
            "Epoch 14/20\n",
            "\u001b[1m123/123\u001b[0m \u001b[32m━━━━━━━━━━━━━━━━━━━━\u001b[0m\u001b[37m\u001b[0m \u001b[1m163s\u001b[0m 1s/step - accuracy: 0.7820 - loss: 0.4270 - val_accuracy: 0.8204 - val_loss: 0.3655\n",
            "Epoch 15/20\n",
            "\u001b[1m123/123\u001b[0m \u001b[32m━━━━━━━━━━━━━━━━━━━━\u001b[0m\u001b[37m\u001b[0m \u001b[1m165s\u001b[0m 1s/step - accuracy: 0.7903 - loss: 0.4167 - val_accuracy: 0.8363 - val_loss: 0.3659\n",
            "Epoch 16/20\n",
            "\u001b[1m123/123\u001b[0m \u001b[32m━━━━━━━━━━━━━━━━━━━━\u001b[0m\u001b[37m\u001b[0m \u001b[1m165s\u001b[0m 1s/step - accuracy: 0.7805 - loss: 0.4242 - val_accuracy: 0.8212 - val_loss: 0.3705\n",
            "Epoch 17/20\n",
            "\u001b[1m123/123\u001b[0m \u001b[32m━━━━━━━━━━━━━━━━━━━━\u001b[0m\u001b[37m\u001b[0m \u001b[1m202s\u001b[0m 1s/step - accuracy: 0.7813 - loss: 0.4239 - val_accuracy: 0.8333 - val_loss: 0.3622\n",
            "Epoch 18/20\n",
            "\u001b[1m123/123\u001b[0m \u001b[32m━━━━━━━━━━━━━━━━━━━━\u001b[0m\u001b[37m\u001b[0m \u001b[1m204s\u001b[0m 1s/step - accuracy: 0.7898 - loss: 0.4219 - val_accuracy: 0.8279 - val_loss: 0.3753\n",
            "Epoch 19/20\n",
            "\u001b[1m123/123\u001b[0m \u001b[32m━━━━━━━━━━━━━━━━━━━━\u001b[0m\u001b[37m\u001b[0m \u001b[1m164s\u001b[0m 1s/step - accuracy: 0.7872 - loss: 0.4229 - val_accuracy: 0.8415 - val_loss: 0.3652\n",
            "Epoch 20/20\n",
            "\u001b[1m123/123\u001b[0m \u001b[32m━━━━━━━━━━━━━━━━━━━━\u001b[0m\u001b[37m\u001b[0m \u001b[1m204s\u001b[0m 1s/step - accuracy: 0.7822 - loss: 0.4242 - val_accuracy: 0.8050 - val_loss: 0.3819\n"
          ]
        }
      ]
    },
    {
      "cell_type": "code",
      "source": [
        "# Print the final epoch accuracy\n",
        "train_acc = history.history['accuracy'][-1]\n",
        "val_acc = history.history['val_accuracy'][-1]\n",
        "\n",
        "print(f\"Final Training Accuracy: {train_acc:.4f}\")\n",
        "print(f\"Final Validation Accuracy: {val_acc:.4f}\")\n"
      ],
      "metadata": {
        "colab": {
          "base_uri": "https://localhost:8080/"
        },
        "id": "avqIx2UsPPg1",
        "outputId": "afdad7cd-45ee-4921-d172-4b5dd7386078"
      },
      "execution_count": 19,
      "outputs": [
        {
          "output_type": "stream",
          "name": "stdout",
          "text": [
            "Final Training Accuracy: 0.7858\n",
            "Final Validation Accuracy: 0.8050\n"
          ]
        }
      ]
    },
    {
      "cell_type": "code",
      "source": [
        "Y_pred = model.predict(X)  # or X_test\n",
        "\n",
        "# Threshold predicted masks at 0.5\n",
        "Y_pred_bin = (Y_pred > 0.5).astype(np.uint8)\n",
        "\n",
        "# Flatten and compare with ground truth masks\n",
        "accuracy_manual = np.mean(Y_pred_bin.flatten() == Y.flatten())\n",
        "print(f\"Manual pixel-wise accuracy: {accuracy_manual:.4f}\")\n"
      ],
      "metadata": {
        "colab": {
          "base_uri": "https://localhost:8080/"
        },
        "id": "zQnR4HBuPVgU",
        "outputId": "d432e19e-d1d2-451c-a7ab-e79157ce044c"
      },
      "execution_count": 20,
      "outputs": [
        {
          "output_type": "stream",
          "name": "stdout",
          "text": [
            "\u001b[1m39/39\u001b[0m \u001b[32m━━━━━━━━━━━━━━━━━━━━\u001b[0m\u001b[37m\u001b[0m \u001b[1m52s\u001b[0m 1s/step\n",
            "Manual pixel-wise accuracy: 0.7885\n"
          ]
        }
      ]
    }
  ]
}