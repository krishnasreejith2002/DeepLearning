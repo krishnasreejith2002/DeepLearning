{
  "nbformat": 4,
  "nbformat_minor": 0,
  "metadata": {
    "colab": {
      "provenance": []
    },
    "kernelspec": {
      "name": "python3",
      "display_name": "Python 3"
    },
    "language_info": {
      "name": "python"
    }
  },
  "cells": [
    {
      "cell_type": "code",
      "execution_count": 1,
      "metadata": {
        "colab": {
          "base_uri": "https://localhost:8080/"
        },
        "id": "lE5wVF6nHLf0",
        "outputId": "5e6dbe5b-1c52-4e67-b2ef-68327f05fb4f"
      },
      "outputs": [
        {
          "output_type": "stream",
          "name": "stdout",
          "text": [
            "Requirement already satisfied: kagglehub in /usr/local/lib/python3.11/dist-packages (0.3.12)\n",
            "Collecting segmentation-models-pytorch\n",
            "  Downloading segmentation_models_pytorch-0.5.0-py3-none-any.whl.metadata (17 kB)\n",
            "Requirement already satisfied: albumentations in /usr/local/lib/python3.11/dist-packages (2.0.6)\n",
            "Requirement already satisfied: packaging in /usr/local/lib/python3.11/dist-packages (from kagglehub) (24.2)\n",
            "Requirement already satisfied: pyyaml in /usr/local/lib/python3.11/dist-packages (from kagglehub) (6.0.2)\n",
            "Requirement already satisfied: requests in /usr/local/lib/python3.11/dist-packages (from kagglehub) (2.32.3)\n",
            "Requirement already satisfied: tqdm in /usr/local/lib/python3.11/dist-packages (from kagglehub) (4.67.1)\n",
            "Requirement already satisfied: huggingface-hub>=0.24 in /usr/local/lib/python3.11/dist-packages (from segmentation-models-pytorch) (0.31.2)\n",
            "Requirement already satisfied: numpy>=1.19.3 in /usr/local/lib/python3.11/dist-packages (from segmentation-models-pytorch) (2.0.2)\n",
            "Requirement already satisfied: pillow>=8 in /usr/local/lib/python3.11/dist-packages (from segmentation-models-pytorch) (11.2.1)\n",
            "Requirement already satisfied: safetensors>=0.3.1 in /usr/local/lib/python3.11/dist-packages (from segmentation-models-pytorch) (0.5.3)\n",
            "Requirement already satisfied: timm>=0.9 in /usr/local/lib/python3.11/dist-packages (from segmentation-models-pytorch) (1.0.15)\n",
            "Requirement already satisfied: torch>=1.8 in /usr/local/lib/python3.11/dist-packages (from segmentation-models-pytorch) (2.6.0+cu124)\n",
            "Requirement already satisfied: torchvision>=0.9 in /usr/local/lib/python3.11/dist-packages (from segmentation-models-pytorch) (0.21.0+cu124)\n",
            "Requirement already satisfied: scipy>=1.10.0 in /usr/local/lib/python3.11/dist-packages (from albumentations) (1.15.3)\n",
            "Requirement already satisfied: pydantic>=2.9.2 in /usr/local/lib/python3.11/dist-packages (from albumentations) (2.11.4)\n",
            "Requirement already satisfied: albucore==0.0.24 in /usr/local/lib/python3.11/dist-packages (from albumentations) (0.0.24)\n",
            "Requirement already satisfied: opencv-python-headless>=4.9.0.80 in /usr/local/lib/python3.11/dist-packages (from albumentations) (4.11.0.86)\n",
            "Requirement already satisfied: stringzilla>=3.10.4 in /usr/local/lib/python3.11/dist-packages (from albucore==0.0.24->albumentations) (3.12.5)\n",
            "Requirement already satisfied: simsimd>=5.9.2 in /usr/local/lib/python3.11/dist-packages (from albucore==0.0.24->albumentations) (6.2.1)\n",
            "Requirement already satisfied: filelock in /usr/local/lib/python3.11/dist-packages (from huggingface-hub>=0.24->segmentation-models-pytorch) (3.18.0)\n",
            "Requirement already satisfied: fsspec>=2023.5.0 in /usr/local/lib/python3.11/dist-packages (from huggingface-hub>=0.24->segmentation-models-pytorch) (2025.3.2)\n",
            "Requirement already satisfied: typing-extensions>=3.7.4.3 in /usr/local/lib/python3.11/dist-packages (from huggingface-hub>=0.24->segmentation-models-pytorch) (4.13.2)\n",
            "Requirement already satisfied: annotated-types>=0.6.0 in /usr/local/lib/python3.11/dist-packages (from pydantic>=2.9.2->albumentations) (0.7.0)\n",
            "Requirement already satisfied: pydantic-core==2.33.2 in /usr/local/lib/python3.11/dist-packages (from pydantic>=2.9.2->albumentations) (2.33.2)\n",
            "Requirement already satisfied: typing-inspection>=0.4.0 in /usr/local/lib/python3.11/dist-packages (from pydantic>=2.9.2->albumentations) (0.4.0)\n",
            "Requirement already satisfied: networkx in /usr/local/lib/python3.11/dist-packages (from torch>=1.8->segmentation-models-pytorch) (3.4.2)\n",
            "Requirement already satisfied: jinja2 in /usr/local/lib/python3.11/dist-packages (from torch>=1.8->segmentation-models-pytorch) (3.1.6)\n",
            "Collecting nvidia-cuda-nvrtc-cu12==12.4.127 (from torch>=1.8->segmentation-models-pytorch)\n",
            "  Downloading nvidia_cuda_nvrtc_cu12-12.4.127-py3-none-manylinux2014_x86_64.whl.metadata (1.5 kB)\n",
            "Collecting nvidia-cuda-runtime-cu12==12.4.127 (from torch>=1.8->segmentation-models-pytorch)\n",
            "  Downloading nvidia_cuda_runtime_cu12-12.4.127-py3-none-manylinux2014_x86_64.whl.metadata (1.5 kB)\n",
            "Collecting nvidia-cuda-cupti-cu12==12.4.127 (from torch>=1.8->segmentation-models-pytorch)\n",
            "  Downloading nvidia_cuda_cupti_cu12-12.4.127-py3-none-manylinux2014_x86_64.whl.metadata (1.6 kB)\n",
            "Collecting nvidia-cudnn-cu12==9.1.0.70 (from torch>=1.8->segmentation-models-pytorch)\n",
            "  Downloading nvidia_cudnn_cu12-9.1.0.70-py3-none-manylinux2014_x86_64.whl.metadata (1.6 kB)\n",
            "Collecting nvidia-cublas-cu12==12.4.5.8 (from torch>=1.8->segmentation-models-pytorch)\n",
            "  Downloading nvidia_cublas_cu12-12.4.5.8-py3-none-manylinux2014_x86_64.whl.metadata (1.5 kB)\n",
            "Collecting nvidia-cufft-cu12==11.2.1.3 (from torch>=1.8->segmentation-models-pytorch)\n",
            "  Downloading nvidia_cufft_cu12-11.2.1.3-py3-none-manylinux2014_x86_64.whl.metadata (1.5 kB)\n",
            "Collecting nvidia-curand-cu12==10.3.5.147 (from torch>=1.8->segmentation-models-pytorch)\n",
            "  Downloading nvidia_curand_cu12-10.3.5.147-py3-none-manylinux2014_x86_64.whl.metadata (1.5 kB)\n",
            "Collecting nvidia-cusolver-cu12==11.6.1.9 (from torch>=1.8->segmentation-models-pytorch)\n",
            "  Downloading nvidia_cusolver_cu12-11.6.1.9-py3-none-manylinux2014_x86_64.whl.metadata (1.6 kB)\n",
            "Collecting nvidia-cusparse-cu12==12.3.1.170 (from torch>=1.8->segmentation-models-pytorch)\n",
            "  Downloading nvidia_cusparse_cu12-12.3.1.170-py3-none-manylinux2014_x86_64.whl.metadata (1.6 kB)\n",
            "Requirement already satisfied: nvidia-cusparselt-cu12==0.6.2 in /usr/local/lib/python3.11/dist-packages (from torch>=1.8->segmentation-models-pytorch) (0.6.2)\n",
            "Requirement already satisfied: nvidia-nccl-cu12==2.21.5 in /usr/local/lib/python3.11/dist-packages (from torch>=1.8->segmentation-models-pytorch) (2.21.5)\n",
            "Requirement already satisfied: nvidia-nvtx-cu12==12.4.127 in /usr/local/lib/python3.11/dist-packages (from torch>=1.8->segmentation-models-pytorch) (12.4.127)\n",
            "Collecting nvidia-nvjitlink-cu12==12.4.127 (from torch>=1.8->segmentation-models-pytorch)\n",
            "  Downloading nvidia_nvjitlink_cu12-12.4.127-py3-none-manylinux2014_x86_64.whl.metadata (1.5 kB)\n",
            "Requirement already satisfied: triton==3.2.0 in /usr/local/lib/python3.11/dist-packages (from torch>=1.8->segmentation-models-pytorch) (3.2.0)\n",
            "Requirement already satisfied: sympy==1.13.1 in /usr/local/lib/python3.11/dist-packages (from torch>=1.8->segmentation-models-pytorch) (1.13.1)\n",
            "Requirement already satisfied: mpmath<1.4,>=1.1.0 in /usr/local/lib/python3.11/dist-packages (from sympy==1.13.1->torch>=1.8->segmentation-models-pytorch) (1.3.0)\n",
            "Requirement already satisfied: charset-normalizer<4,>=2 in /usr/local/lib/python3.11/dist-packages (from requests->kagglehub) (3.4.2)\n",
            "Requirement already satisfied: idna<4,>=2.5 in /usr/local/lib/python3.11/dist-packages (from requests->kagglehub) (3.10)\n",
            "Requirement already satisfied: urllib3<3,>=1.21.1 in /usr/local/lib/python3.11/dist-packages (from requests->kagglehub) (2.4.0)\n",
            "Requirement already satisfied: certifi>=2017.4.17 in /usr/local/lib/python3.11/dist-packages (from requests->kagglehub) (2025.4.26)\n",
            "Requirement already satisfied: MarkupSafe>=2.0 in /usr/local/lib/python3.11/dist-packages (from jinja2->torch>=1.8->segmentation-models-pytorch) (3.0.2)\n",
            "Downloading segmentation_models_pytorch-0.5.0-py3-none-any.whl (154 kB)\n",
            "\u001b[2K   \u001b[90m━━━━━━━━━━━━━━━━━━━━━━━━━━━━━━━━━━━━━━━━\u001b[0m \u001b[32m154.8/154.8 kB\u001b[0m \u001b[31m6.8 MB/s\u001b[0m eta \u001b[36m0:00:00\u001b[0m\n",
            "\u001b[?25hDownloading nvidia_cublas_cu12-12.4.5.8-py3-none-manylinux2014_x86_64.whl (363.4 MB)\n",
            "\u001b[2K   \u001b[90m━━━━━━━━━━━━━━━━━━━━━━━━━━━━━━━━━━━━━━━━\u001b[0m \u001b[32m363.4/363.4 MB\u001b[0m \u001b[31m4.3 MB/s\u001b[0m eta \u001b[36m0:00:00\u001b[0m\n",
            "\u001b[?25hDownloading nvidia_cuda_cupti_cu12-12.4.127-py3-none-manylinux2014_x86_64.whl (13.8 MB)\n",
            "\u001b[2K   \u001b[90m━━━━━━━━━━━━━━━━━━━━━━━━━━━━━━━━━━━━━━━━\u001b[0m \u001b[32m13.8/13.8 MB\u001b[0m \u001b[31m64.6 MB/s\u001b[0m eta \u001b[36m0:00:00\u001b[0m\n",
            "\u001b[?25hDownloading nvidia_cuda_nvrtc_cu12-12.4.127-py3-none-manylinux2014_x86_64.whl (24.6 MB)\n",
            "\u001b[2K   \u001b[90m━━━━━━━━━━━━━━━━━━━━━━━━━━━━━━━━━━━━━━━━\u001b[0m \u001b[32m24.6/24.6 MB\u001b[0m \u001b[31m55.2 MB/s\u001b[0m eta \u001b[36m0:00:00\u001b[0m\n",
            "\u001b[?25hDownloading nvidia_cuda_runtime_cu12-12.4.127-py3-none-manylinux2014_x86_64.whl (883 kB)\n",
            "\u001b[2K   \u001b[90m━━━━━━━━━━━━━━━━━━━━━━━━━━━━━━━━━━━━━━━━\u001b[0m \u001b[32m883.7/883.7 kB\u001b[0m \u001b[31m39.9 MB/s\u001b[0m eta \u001b[36m0:00:00\u001b[0m\n",
            "\u001b[?25hDownloading nvidia_cudnn_cu12-9.1.0.70-py3-none-manylinux2014_x86_64.whl (664.8 MB)\n",
            "\u001b[2K   \u001b[90m━━━━━━━━━━━━━━━━━━━━━━━━━━━━━━━━━━━━━━━━\u001b[0m \u001b[32m664.8/664.8 MB\u001b[0m \u001b[31m1.3 MB/s\u001b[0m eta \u001b[36m0:00:00\u001b[0m\n",
            "\u001b[?25hDownloading nvidia_cufft_cu12-11.2.1.3-py3-none-manylinux2014_x86_64.whl (211.5 MB)\n",
            "\u001b[2K   \u001b[90m━━━━━━━━━━━━━━━━━━━━━━━━━━━━━━━━━━━━━━━━\u001b[0m \u001b[32m211.5/211.5 MB\u001b[0m \u001b[31m5.1 MB/s\u001b[0m eta \u001b[36m0:00:00\u001b[0m\n",
            "\u001b[?25hDownloading nvidia_curand_cu12-10.3.5.147-py3-none-manylinux2014_x86_64.whl (56.3 MB)\n",
            "\u001b[2K   \u001b[90m━━━━━━━━━━━━━━━━━━━━━━━━━━━━━━━━━━━━━━━━\u001b[0m \u001b[32m56.3/56.3 MB\u001b[0m \u001b[31m15.9 MB/s\u001b[0m eta \u001b[36m0:00:00\u001b[0m\n",
            "\u001b[?25hDownloading nvidia_cusolver_cu12-11.6.1.9-py3-none-manylinux2014_x86_64.whl (127.9 MB)\n",
            "\u001b[2K   \u001b[90m━━━━━━━━━━━━━━━━━━━━━━━━━━━━━━━━━━━━━━━━\u001b[0m \u001b[32m127.9/127.9 MB\u001b[0m \u001b[31m8.4 MB/s\u001b[0m eta \u001b[36m0:00:00\u001b[0m\n",
            "\u001b[?25hDownloading nvidia_cusparse_cu12-12.3.1.170-py3-none-manylinux2014_x86_64.whl (207.5 MB)\n",
            "\u001b[2K   \u001b[90m━━━━━━━━━━━━━━━━━━━━━━━━━━━━━━━━━━━━━━━━\u001b[0m \u001b[32m207.5/207.5 MB\u001b[0m \u001b[31m6.5 MB/s\u001b[0m eta \u001b[36m0:00:00\u001b[0m\n",
            "\u001b[?25hDownloading nvidia_nvjitlink_cu12-12.4.127-py3-none-manylinux2014_x86_64.whl (21.1 MB)\n",
            "\u001b[2K   \u001b[90m━━━━━━━━━━━━━━━━━━━━━━━━━━━━━━━━━━━━━━━━\u001b[0m \u001b[32m21.1/21.1 MB\u001b[0m \u001b[31m68.0 MB/s\u001b[0m eta \u001b[36m0:00:00\u001b[0m\n",
            "\u001b[?25hInstalling collected packages: nvidia-nvjitlink-cu12, nvidia-curand-cu12, nvidia-cufft-cu12, nvidia-cuda-runtime-cu12, nvidia-cuda-nvrtc-cu12, nvidia-cuda-cupti-cu12, nvidia-cublas-cu12, nvidia-cusparse-cu12, nvidia-cudnn-cu12, nvidia-cusolver-cu12, segmentation-models-pytorch\n",
            "  Attempting uninstall: nvidia-nvjitlink-cu12\n",
            "    Found existing installation: nvidia-nvjitlink-cu12 12.5.82\n",
            "    Uninstalling nvidia-nvjitlink-cu12-12.5.82:\n",
            "      Successfully uninstalled nvidia-nvjitlink-cu12-12.5.82\n",
            "  Attempting uninstall: nvidia-curand-cu12\n",
            "    Found existing installation: nvidia-curand-cu12 10.3.6.82\n",
            "    Uninstalling nvidia-curand-cu12-10.3.6.82:\n",
            "      Successfully uninstalled nvidia-curand-cu12-10.3.6.82\n",
            "  Attempting uninstall: nvidia-cufft-cu12\n",
            "    Found existing installation: nvidia-cufft-cu12 11.2.3.61\n",
            "    Uninstalling nvidia-cufft-cu12-11.2.3.61:\n",
            "      Successfully uninstalled nvidia-cufft-cu12-11.2.3.61\n",
            "  Attempting uninstall: nvidia-cuda-runtime-cu12\n",
            "    Found existing installation: nvidia-cuda-runtime-cu12 12.5.82\n",
            "    Uninstalling nvidia-cuda-runtime-cu12-12.5.82:\n",
            "      Successfully uninstalled nvidia-cuda-runtime-cu12-12.5.82\n",
            "  Attempting uninstall: nvidia-cuda-nvrtc-cu12\n",
            "    Found existing installation: nvidia-cuda-nvrtc-cu12 12.5.82\n",
            "    Uninstalling nvidia-cuda-nvrtc-cu12-12.5.82:\n",
            "      Successfully uninstalled nvidia-cuda-nvrtc-cu12-12.5.82\n",
            "  Attempting uninstall: nvidia-cuda-cupti-cu12\n",
            "    Found existing installation: nvidia-cuda-cupti-cu12 12.5.82\n",
            "    Uninstalling nvidia-cuda-cupti-cu12-12.5.82:\n",
            "      Successfully uninstalled nvidia-cuda-cupti-cu12-12.5.82\n",
            "  Attempting uninstall: nvidia-cublas-cu12\n",
            "    Found existing installation: nvidia-cublas-cu12 12.5.3.2\n",
            "    Uninstalling nvidia-cublas-cu12-12.5.3.2:\n",
            "      Successfully uninstalled nvidia-cublas-cu12-12.5.3.2\n",
            "  Attempting uninstall: nvidia-cusparse-cu12\n",
            "    Found existing installation: nvidia-cusparse-cu12 12.5.1.3\n",
            "    Uninstalling nvidia-cusparse-cu12-12.5.1.3:\n",
            "      Successfully uninstalled nvidia-cusparse-cu12-12.5.1.3\n",
            "  Attempting uninstall: nvidia-cudnn-cu12\n",
            "    Found existing installation: nvidia-cudnn-cu12 9.3.0.75\n",
            "    Uninstalling nvidia-cudnn-cu12-9.3.0.75:\n",
            "      Successfully uninstalled nvidia-cudnn-cu12-9.3.0.75\n",
            "  Attempting uninstall: nvidia-cusolver-cu12\n",
            "    Found existing installation: nvidia-cusolver-cu12 11.6.3.83\n",
            "    Uninstalling nvidia-cusolver-cu12-11.6.3.83:\n",
            "      Successfully uninstalled nvidia-cusolver-cu12-11.6.3.83\n",
            "Successfully installed nvidia-cublas-cu12-12.4.5.8 nvidia-cuda-cupti-cu12-12.4.127 nvidia-cuda-nvrtc-cu12-12.4.127 nvidia-cuda-runtime-cu12-12.4.127 nvidia-cudnn-cu12-9.1.0.70 nvidia-cufft-cu12-11.2.1.3 nvidia-curand-cu12-10.3.5.147 nvidia-cusolver-cu12-11.6.1.9 nvidia-cusparse-cu12-12.3.1.170 nvidia-nvjitlink-cu12-12.4.127 segmentation-models-pytorch-0.5.0\n"
          ]
        }
      ],
      "source": [
        "pip install kagglehub segmentation-models-pytorch albumentations\n"
      ]
    },
    {
      "cell_type": "code",
      "source": [
        "import kagglehub\n",
        "\n",
        "# Download latest version\n",
        "path = kagglehub.dataset_download(\"shubhambaid/skin-burn-dataset\")\n",
        "\n",
        "print(\"Path to dataset files:\", path)\n"
      ],
      "metadata": {
        "colab": {
          "base_uri": "https://localhost:8080/"
        },
        "id": "HN5SN9Y0HuRM",
        "outputId": "206a84fd-f327-4a16-8434-0bf84b61a285"
      },
      "execution_count": 2,
      "outputs": [
        {
          "output_type": "stream",
          "name": "stdout",
          "text": [
            "Downloading from https://www.kaggle.com/api/v1/datasets/download/shubhambaid/skin-burn-dataset?dataset_version_number=1...\n"
          ]
        },
        {
          "output_type": "stream",
          "name": "stderr",
          "text": [
            "100%|██████████| 16.6M/16.6M [00:00<00:00, 181MB/s]"
          ]
        },
        {
          "output_type": "stream",
          "name": "stdout",
          "text": [
            "Extracting files...\n"
          ]
        },
        {
          "output_type": "stream",
          "name": "stderr",
          "text": [
            "\n"
          ]
        },
        {
          "output_type": "stream",
          "name": "stdout",
          "text": [
            "Path to dataset files: /root/.cache/kagglehub/datasets/shubhambaid/skin-burn-dataset/versions/1\n"
          ]
        }
      ]
    },
    {
      "cell_type": "code",
      "source": [
        "import os\n",
        "import numpy as np\n",
        "from PIL import Image\n",
        "from glob import glob\n",
        "\n",
        "import torch\n",
        "from torch.utils.data import Dataset, DataLoader\n",
        "import torchvision.transforms as T\n",
        "\n",
        "import segmentation_models_pytorch as smp\n",
        "\n",
        "# ========== Dataset Class ===========\n",
        "\n",
        "class BurnSegmentationDataset(Dataset):\n",
        "    def __init__(self, images_dir, image_size=(128,128), transform=None):\n",
        "        self.images_dir = images_dir\n",
        "        self.image_size = image_size\n",
        "        self.transform = transform\n",
        "\n",
        "        self.image_paths = sorted(glob(os.path.join(images_dir, \"*.jpg\")))\n",
        "\n",
        "    def __len__(self):\n",
        "        return len(self.image_paths)\n",
        "\n",
        "    def __getitem__(self, idx):\n",
        "        img_path = self.image_paths[idx]\n",
        "        base_name = os.path.splitext(img_path)[0]\n",
        "        txt_path = base_name + \".txt\"\n",
        "\n",
        "        # Load image\n",
        "        img = Image.open(img_path).convert(\"RGB\")\n",
        "        original_w, original_h = img.size\n",
        "\n",
        "        # Load bboxes and create mask\n",
        "        bboxes = self.load_bboxes(txt_path)\n",
        "        mask = self.bboxes_to_mask(bboxes, original_w, original_h)\n",
        "\n",
        "        # Resize image and mask\n",
        "        img = img.resize(self.image_size)\n",
        "        mask_img = Image.fromarray(mask*255).resize(self.image_size)\n",
        "\n",
        "        # Convert to tensors\n",
        "        if self.transform:\n",
        "            img = self.transform(img)\n",
        "        else:\n",
        "            # Default transform: ToTensor (0-1 float)\n",
        "            img = T.ToTensor()(img)\n",
        "\n",
        "        # Mask to tensor, binary 0/1\n",
        "        mask = np.array(mask_img)/255.0\n",
        "        mask = torch.tensor(mask, dtype=torch.float32).unsqueeze(0)  # (1, H, W)\n",
        "\n",
        "        return img, mask\n",
        "\n",
        "    def load_bboxes(self, txt_path):\n",
        "        bboxes = []\n",
        "        if os.path.exists(txt_path):\n",
        "            with open(txt_path, \"r\") as f:\n",
        "                for line in f:\n",
        "                    parts = line.strip().split()\n",
        "                    if len(parts) == 5:\n",
        "                        bboxes.append(list(map(float, parts)))\n",
        "        return bboxes\n",
        "\n",
        "    def bboxes_to_mask(self, bboxes, img_width, img_height):\n",
        "        mask = np.zeros((img_height, img_width), dtype=np.uint8)\n",
        "        for bbox in bboxes:\n",
        "            _, x_c, y_c, w, h = bbox\n",
        "            x_c *= img_width\n",
        "            y_c *= img_height\n",
        "            w *= img_width\n",
        "            h *= img_height\n",
        "\n",
        "            x_min = max(0, int(x_c - w/2))\n",
        "            y_min = max(0, int(y_c - h/2))\n",
        "            x_max = min(img_width, int(x_c + w/2))\n",
        "            y_max = min(img_height, int(y_c + h/2))\n",
        "\n",
        "            mask[y_min:y_max, x_min:x_max] = 1\n",
        "        return mask\n",
        "\n",
        "\n",
        "# ====== Set dataset directory and create Dataset + DataLoader ======\n",
        "\n",
        "dataset_dir = \"/kaggle/input/skin-burn-dataset\"\n",
        "dataset = BurnSegmentationDataset(dataset_dir, image_size=(128, 128))\n",
        "\n",
        "\n",
        "dataloader = DataLoader(dataset, batch_size=4, shuffle=True)\n",
        "\n",
        "# ====== Build PSPNet Model ======\n",
        "\n",
        "# Use ResNet34 encoder backbone (you can choose others)\n",
        "model = smp.PSPNet(\n",
        "    encoder_name=\"resnet34\",        # backbone\n",
        "    encoder_weights=\"imagenet\",     # pretrained weights\n",
        "    in_channels=3,\n",
        "    classes=1,                      # binary segmentation\n",
        ")\n",
        "\n",
        "device = torch.device(\"cuda\" if torch.cuda.is_available() else \"cpu\")\n",
        "model.to(device)\n",
        "\n",
        "# ====== Loss and optimizer ======\n",
        "\n",
        "from segmentation_models_pytorch.losses import DiceLoss\n",
        "\n",
        "loss_fn = DiceLoss(mode='binary')\n",
        "\n",
        "optimizer = torch.optim.Adam(model.parameters(), lr=1e-4)\n",
        "\n",
        "# ====== Training loop ======\n",
        "\n",
        "num_epochs = 10\n",
        "\n",
        "for epoch in range(num_epochs):\n",
        "    model.train()\n",
        "    epoch_loss = 0\n",
        "\n",
        "    for images, masks in dataloader:\n",
        "        images = images.to(device)\n",
        "        masks = masks.to(device)\n",
        "\n",
        "        optimizer.zero_grad()\n",
        "        outputs = model(images)\n",
        "\n",
        "        loss = loss_fn(outputs, masks)\n",
        "        loss.backward()\n",
        "        optimizer.step()\n",
        "\n",
        "        epoch_loss += loss.item()\n",
        "\n",
        "    print(f\"Epoch {epoch+1}/{num_epochs} - Loss: {epoch_loss/len(dataloader):.4f}\")\n",
        "\n",
        "print(\"Training finished!\")\n"
      ],
      "metadata": {
        "colab": {
          "base_uri": "https://localhost:8080/"
        },
        "id": "vY5vuA_dLc7w",
        "outputId": "af663828-0d9d-4eb7-af13-431b1624a389"
      },
      "execution_count": 18,
      "outputs": [
        {
          "output_type": "stream",
          "name": "stdout",
          "text": [
            "Epoch 1/10 - Loss: 0.4500\n",
            "Epoch 2/10 - Loss: 0.3788\n",
            "Epoch 3/10 - Loss: 0.3549\n",
            "Epoch 4/10 - Loss: 0.3206\n",
            "Epoch 5/10 - Loss: 0.3046\n",
            "Epoch 6/10 - Loss: 0.2869\n",
            "Epoch 7/10 - Loss: 0.2685\n",
            "Epoch 8/10 - Loss: 0.2516\n",
            "Epoch 9/10 - Loss: 0.2392\n",
            "Epoch 10/10 - Loss: 0.2290\n",
            "Training finished!\n"
          ]
        }
      ]
    },
    {
      "cell_type": "code",
      "source": [
        "import os\n",
        "\n",
        "print(\"Dataset root:\", path)\n",
        "print(\"Files in dataset root:\", os.listdir(path))\n"
      ],
      "metadata": {
        "colab": {
          "base_uri": "https://localhost:8080/"
        },
        "id": "-j3GXOcwL6Bw",
        "outputId": "5ba965f9-61f9-4f1e-beb3-5ec0d72e5f89"
      },
      "execution_count": 13,
      "outputs": [
        {
          "output_type": "stream",
          "name": "stdout",
          "text": [
            "Dataset root: /kaggle/input/skin-burn-dataset\n",
            "Files in dataset root: ['img560.txt', 'img1194.jpg', 'img275.txt', 'img966.txt', 'img516.jpg', 'img943.txt', 'img254.jpg', 'img263.jpg', 'img699.txt', 'img659.jpg', 'img338.txt', 'img1387.txt', 'img575.jpg', 'img483.txt', 'img4.txt', 'img470.txt', 'img794.txt', 'img1013.jpg', 'img0.jpg', 'img988.txt', 'img66.txt', 'img1119.jpg', 'img403.jpg', 'img1138.jpg', 'img1280.txt', 'img1173.jpg', 'img786.txt', 'img522.txt', 'img1176.jpg', 'img696.txt', 'img1343.txt', 'img932.txt', 'img822.txt', 'img1120.txt', 'img224.jpg', 'img985.jpg', 'img113.txt', 'img514.jpg', 'img170.jpg', 'img212.jpg', 'img18.txt', 'img280.jpg', 'img344.txt', 'img341.txt', 'img1303.txt', 'img373.txt', 'img77.jpg', 'img340.jpg', 'img521.jpg', 'img154.jpg', 'img170.txt', 'img498.jpg', 'img226.txt', 'img42.jpg', 'img989.txt', 'img317.txt', 'img1144.txt', 'img921.txt', 'img1285.jpg', 'img1210.txt', 'img920.txt', 'img435.txt', 'img342.jpg', 'img691.jpg', 'img286.jpg', 'img144.jpg', 'img655.txt', 'img302.txt', 'img817.txt', 'img776.txt', 'img729.jpg', 'img126.txt', 'img721.txt', 'img1214.jpg', 'img1429.jpg', 'img150.jpg', 'img396.jpg', 'img328.jpg', 'img684.txt', 'img761.txt', 'img720.txt', 'img585.txt', 'img551.jpg', 'img1392.txt', 'img290.jpg', 'img297.jpg', 'img289.jpg', 'img338.jpg', 'img868.jpg', 'img999.jpg', 'img431.jpg', 'img858.txt', 'img331.jpg', 'img1288.jpg', 'img258.txt', 'img383.jpg', 'img749.jpg', 'img631.txt', 'img742.txt', 'img139.jpg', 'img412.txt', 'img285.jpg', 'img243.jpg', 'img752.jpg', 'img1393.jpg', 'img1382.jpg', 'img838.txt', 'img491.jpg', 'img927.txt', 'img201.txt', 'img903.txt', 'img1198.jpg', 'img497.txt', 'img904.txt', 'img582.txt', 'img81.txt', 'img1070.txt', 'img751.txt', 'img697.txt', 'img501.jpg', 'img1234.jpg', 'img593.jpg', 'img210.jpg', 'img9.txt', 'img1271.jpg', 'img1264.txt', 'img1351.txt', 'img148.jpg', 'img975.jpg', 'img162.jpg', 'img16.jpg', 'img930.jpg', 'img675.txt', 'img158.txt', 'img399.txt', 'img1334.txt', 'img1254.txt', 'img130.jpg', 'img685.txt', 'img524.jpg', 'img1325.txt', 'img544.jpg', 'img888.jpg', 'img136.jpg', 'img1365.jpg', 'img1438.txt', 'img260.txt', 'img234.jpg', 'img476.jpg', 'img1214.txt', 'img1294.txt', 'img1124.txt', 'img1233.txt', 'img855.txt', 'img613.jpg', 'img683.jpg', 'img1313.jpg', 'img1196.jpg', 'img1227.jpg', 'img415.txt', 'img1064.jpg', 'img549.txt', 'img1158.txt', 'img35.txt', 'img323.jpg', 'img204.jpg', 'img855.jpg', 'img462.txt', 'img693.txt', 'img532.txt', 'img273.jpg', 'img301.txt', 'img663.txt', 'img918.txt', 'img1315.txt', 'img663.jpg', 'img1342.jpg', 'img1128.txt', 'img128.jpg', 'img1324.txt', 'img528.txt', 'img431.txt', 'img164.jpg', 'img637.txt', 'img175.txt', 'img277.txt', 'img1298.jpg', 'img579.jpg', 'img660.jpg', 'img1353.jpg', 'img948.jpg', 'img1281.txt', 'img910.txt', 'img1088.txt', 'img956.txt', 'img1240.txt', 'img368.txt', 'img1236.txt', 'img1395.txt', 'img188.jpg', 'img1414.txt', 'img363.txt', 'img1308.jpg', 'img223.txt', 'img953.txt', 'img424.jpg', 'img900.jpg', 'img1400.jpg', 'img1286.jpg', 'img83.jpg', 'img1326.txt', 'img418.jpg', 'img372.txt', 'img643.jpg', 'img452.jpg', 'img563.jpg', 'img871.txt', 'img925.txt', 'img152.txt', 'img566.txt', 'img155.txt', 'img854.jpg', 'img1246.txt', 'img747.txt', 'img718.jpg', 'img616.txt', 'img342.txt', 'img217.jpg', 'img810.jpg', 'img998.jpg', 'img921.jpg', 'img787.txt', 'img1274.txt', 'img613.txt', 'img897.txt', 'img465.txt', 'img1273.txt', 'img950.txt', 'img1225.jpg', 'img360.txt', 'img451.txt', 'img1332.txt', 'img318.txt', 'img525.txt', 'img570.txt', 'img629.txt', 'img33.jpg', 'img273.txt', 'img455.txt', 'img844.jpg', 'img20.txt', 'img463.txt', 'img796.jpg', 'img1071.txt', 'img52.txt', 'img872.jpg', 'img1219.jpg', 'img564.txt', 'img580.txt', 'img428.jpg', 'img567.txt', 'img252.txt', 'img1324.jpg', 'img934.txt', 'img960.jpg', 'img1149.txt', 'img153.txt', 'img1051.txt', 'img1164.txt', 'img706.txt', 'img9.jpg', 'img1205.txt', 'img917.jpg', 'img969.txt', 'img235.txt', 'img743.txt', 'img676.jpg', 'img588.txt', 'img981.jpg', 'img377.txt', 'img247.txt', 'img745.jpg', 'img872.txt', 'img1221.jpg', 'img432.txt', 'img805.txt', 'img591.jpg', 'img1132.jpeg', 'img605.txt', 'img1376.jpg', 'img733.jpg', 'img1192.jpg', 'img577.txt', 'img85.txt', 'img314.jpg', 'img113.jpg', 'img1405.txt', 'img944.txt', 'img676.txt', 'img296.jpg', 'img721.jpg', 'img781.txt', 'img914.txt', 'img266.txt', 'img937.txt', 'img1435.jpg', 'img1095.txt', 'img568.jpg', 'img509.txt', 'img651.jpg', 'img911.txt', 'img1177.txt', 'img324.jpg', 'img1055.jpg', 'img1276.jpg', 'img685.jpg', 'img192.jpg', 'img1416.jpg', 'img388.txt', 'img451.jpg', 'img424.txt', 'img447.jpg', 'img1185.txt', 'img510.jpg', 'img258.jpg', 'img495.txt', 'img278.txt', 'img1119.txt', 'img1222.jpg', 'img21.jpg', 'img1161.txt', 'img206.jpg', 'img416.jpg', 'img1416.txt', 'img1155.txt', 'img1422.txt', 'img1288.txt', 'img1263.jpg', 'img159.jpg', 'img308.txt', 'img315.txt', 'img1186.txt', 'img649.jpg', 'img1178.txt', 'img365.jpg', 'img999.txt', 'img119.jpg', 'img1013.txt', 'img36.jpg', 'img1321.jpg', 'img1020.txt', 'img336.txt', 'img479.jpg', 'img58.jpg', 'img1255.txt', 'img401.jpg', 'img640.jpg', 'img951.txt', 'img169.txt', 'img461.jpg', 'img5.txt', 'img109.txt', 'img947.txt', 'img1398.txt', 'img143.jpg', 'img726.txt', 'img1085.txt', 'img337.jpg', 'img1220.txt', 'img1378.txt', 'img1375.txt', 'img1292.jpg', 'img194.jpg', 'img849.txt', 'img38.txt', 'img842.txt', 'img621.txt', 'img754.txt', 'img974.jpg', 'img586.txt', 'img395.txt', 'img259.txt', 'img636.jpg', 'img1172.jpg', 'img459.jpg', 'img541.txt', 'img811.txt', 'img1317.txt', 'img85.jpg', 'img552.jpg', 'img352.txt', 'img134.jpg', 'img895.jpg', 'img607.jpg', 'img245.txt', 'img244.jpg', 'img1270.txt', 'img681.jpg', 'img482.jpg', 'img500.txt', 'img792.txt', 'img990.txt', 'img1075.txt', 'img89.jpg', 'img175.jpg', 'img961.jpg', 'img566.jpg', 'img434.jpg', 'img961.txt', 'img600.txt', 'img973.jpg', 'img271.txt', 'img184.jpg', 'img869.txt', 'img1260.jpg', 'img540.jpg', 'img1097.txt', 'img194.txt', 'img907.jpg', 'img59.txt', 'img1317.jpg', 'img531.txt', 'img1375.jpg', 'img251.txt', 'img864.txt', 'img558.txt', 'img133.jpg', 'img426.txt', 'img1211.txt', 'img264.jpg', 'img395.jpg', 'img295.txt', 'img1115.txt', 'img763.jpg', 'img646.txt', 'img312.jpg', 'img1163.jpg', 'img1433.jpg', 'img1354.txt', 'img111.txt', 'img1314.jpg', 'img1048.jpg', 'img320.txt', 'img227.txt', 'img197.jpg', 'img122.txt', 'img930.txt', 'img274.jpg', 'img159.txt', 'img339.jpg', 'img967.jpg', 'img540.txt', 'img1265.txt', 'img821.jpg', 'img735.txt', 'img133.txt', 'img248.txt', 'img440.txt', 'img1209.txt', 'img988.jpg', 'img160.jpg', 'img426.jpg', 'img1134.txt', 'img737.jpg', 'img1082.txt', 'img247.jpg', 'img1127.jpg', 'img692.jpg', 'img1152.jpg', 'img1060.txt', 'img1398.jpg', 'img527.txt', 'img376.jpg', 'img491.txt', 'img1004.jpg', 'img731.txt', 'img87.jpg', 'img909.txt', 'img309.txt', 'img40.jpg', 'img279.jpg', 'img790.jpg', 'img251.jpg', 'img324.txt', 'img17.jpg', 'img1403.jpg', 'img351.jpg', 'img861.txt', 'img1415.jpg', 'img437.jpg', 'img795.txt', 'img632.txt', 'img60.txt', 'img972.txt', 'img154.txt', 'img509.jpg', 'img484.txt', 'img239.txt', 'img1293.txt', 'img490.jpg', 'img1301.txt', 'img1111.jpg', 'img345.txt', 'img523.jpg', 'img131.txt', 'img183.jpg', 'img519.jpg', 'img45.jpg', 'img1206.txt', 'img409.txt', 'img234.txt', 'img72.txt', 'img910.jpg', 'img97.jpg', 'img1173.txt', 'img268.jpg', 'img982.txt', 'img1350.txt', 'img773.txt', 'img232.txt', 'img851.txt', 'img620.txt', 'img1054.txt', 'img627.txt', 'img677.jpg', 'img699.jpg', 'img493.jpg', 'img1327.txt', 'img1114.txt', 'img420.jpg', 'img800.txt', 'img661.txt', 'img1330.jpg', 'img187.jpg', 'img2.jpg', 'img1228.txt', 'img379.jpg', 'img418.txt', 'img1064.txt', 'img141.jpg', 'img242.jpg', 'img1359.txt', 'img1364.txt', 'img1363.jpg', 'img702.txt', 'img511.jpg', 'img784.txt', 'img421.txt', 'img1048.txt', 'img209.txt', 'img760.txt', 'img480.txt', 'img269.jpg', 'img140.jpg', 'img894.txt', 'img385.jpg', 'img544.txt', 'img1292.txt', 'img827.txt', 'img1131.jpg', 'img1403.txt', 'img390.jpg', 'img1160.txt', 'img834.txt', 'img1105.jpg', 'img1434.jpg', 'img512.txt', 'img18.jpg', 'img1029.txt', 'img43.txt', 'img327.jpg', 'img1038.txt', 'img1072.jpg', 'img732.txt', 'img1002.txt', 'img421.jpg', 'img48.jpg', 'img722.txt', 'img359.txt', 'img664.jpg', 'img481.txt', 'img364.txt', 'img777.jpg', 'img1304.jpg', 'img740.txt', 'img672.jpg', 'img1180.jpg', 'img1102.txt', 'img818.txt', 'img195.jpg', 'img177.jpg', 'img924.jpg', 'img1160.jpg', 'img151.jpg', 'img760.jpg', 'img1245.jpg', 'img1402.jpg', 'img796.txt', 'img282.jpg', 'img803.jpg', 'img1193.txt', 'img165.txt', 'img477.txt', 'img27.jpg', 'img1007.txt', 'img1026.txt', 'img756.txt', 'img1227.txt', 'img1080.txt', 'img715.txt', 'img1343.jpg', 'img764.jpg', 'img1046.txt', 'img771.txt', 'img1323.txt', 'img197.txt', 'img816.jpg', 'img797.txt', 'img1419.txt', 'img1181.txt', 'img777.txt', 'img51.jpg', 'img39.jpg', 'img811.jpg', 'img1345.txt', 'img1331.txt', 'img1185.jpg', 'img1315.jpg', 'img525.jpg', 'img973.txt', 'img413.jpg', 'img330.txt', 'img349.jpg', 'img167.txt', 'img286.txt', 'img673.txt', 'img926.txt', 'img1349.txt', 'img326.jpg', 'img813.txt', 'img464.txt', 'img884.txt', 'img846.jpg', 'img1052.txt', 'img435.jpg', 'img178.txt', 'img1384.txt', 'img1231.txt', 'img446.jpg', 'img416.txt', 'img1366.txt', 'img1304.txt', 'img348.txt', 'img799.jpg', 'img296.txt', 'img711.jpg', 'img88.txt', 'img445.txt', 'img142.txt', 'img353.jpg', 'img356.jpg', 'img636.txt', 'img639.txt', 'img505.jpg', 'img27.txt', 'img189.txt', 'img1122.txt', 'img1025.txt', 'img396.txt', 'img1366.jpg', 'img517.txt', 'img1133.txt', 'img1027.txt', 'img642.txt', 'img725.jpg', 'img16.txt', 'img687.txt', 'img599.jpg', 'img1281.jpg', 'img304.jpg', 'img1289.txt', 'img453.txt', 'img1174.jpg', 'img565.jpg', 'img903.jpg', 'img229.jpg', 'img57.jpg', 'img314.txt', 'img422.jpg', 'img75.txt', 'img405.jpg', 'img547.jpg', 'img36.txt', 'img647.jpg', 'img423.txt', 'img838.jpg', 'img98.txt', 'img700.jpg', 'img529.txt', 'img769.txt', 'img70.txt', 'img690.txt', 'img1297.jpg', 'img1293.jpg', 'img668.txt', 'img1149.jpg', 'img475.jpg', 'img285.txt', 'img411.txt', 'img1274.jpg', 'img575.txt', 'img704.txt', 'img1167.jpg', 'img362.jpg', 'img1369.txt', 'img205.jpg', 'img550.jpg', 'img595.txt', 'img1036.txt', 'img625.jpg', 'img1029.jpg', 'img553.txt', 'img260.jpg', 'img904.jpg', 'img1106.txt', 'img1145.txt', 'img604.txt', 'img803.txt', 'img1409.txt', 'img1086.jpg', 'img574.jpg', 'img1131.txt', 'img0.txt', 'img348.jpg', 'img7.jpg', 'img832.jpg', 'img598.txt', 'img582.jpg', 'img886.txt', 'img3.txt', 'img751.jpg', 'img681.txt', 'img833.jpg', 'img206.txt', 'img1319.txt', 'img220.jpg', 'img1.txt', 'img837.jpg', 'img680.jpg', 'img783.jpg', 'img913.txt', 'img82.jpg', 'img235.jpg', 'img591.txt', 'img653.jpg', 'img784.jpg', 'img715.jpg', 'img587.txt', 'img1023.jpg', 'img1108.txt', 'img217.txt', 'img52.jpg', 'img576.jpg', 'img502.jpg', 'img1213.txt', 'img853.jpg', 'img741.txt', 'img1269.jpg', 'img190.jpg', 'img735.jpg', 'img503.jpg', 'img272.jpg', 'img246.jpg', 'img1068.txt', 'img991.jpg', 'img414.jpg', 'img877.txt', 'img578.jpg', 'img1198.txt', 'img822.jpg', 'img859.txt', 'img1106.jpg', 'img1040.txt', 'img1136.jpg', 'img634.jpg', 'img1087.txt', 'img1390.txt', 'img475.txt', 'img303.txt', 'img11.txt', 'img1252.txt', 'img1033.jpg', 'img1272.txt', 'img382.txt', 'img620.jpg', 'img412.jpg', 'img888.txt', 'img12.jpg', 'img1371.txt', 'img1411.jpg', 'img1405.jpg', 'img375.txt', 'img1101.txt', 'img672.txt', 'img482.txt', 'img1216.jpg', 'img40.txt', 'img919.jpg', 'img912.txt', 'img686.jpg', 'img39.txt', 'img922.jpg', 'img717.jpg', 'img657.jpg', 'img1335.jpg', 'img839.txt', 'img237.jpg', 'img1440.txt', 'img91.txt', 'img1146.txt', 'img861.jpg', 'img24.jpg', 'img210.txt', 'img895.txt', 'img612.jpg', 'img727.jpg', 'img123.jpg', 'img1232.jpg', 'img1423.txt', 'img837.txt', 'img306.txt', 'img1073.txt', 'img104.txt', 'img184.txt', 'img1028.txt', 'img28.txt', 'img436.txt', 'img820.txt', 'img1042.txt', 'img680.txt', 'img271.jpg', 'img1098.txt', 'img343.txt', 'img1041.jpg', 'img954.txt', 'img626.txt', 'img1175.jpg', 'img539.jpg', 'img93.jpg', 'img92.jpg', 'img216.txt', 'img118.jpg', 'img939.txt', 'img1267.jpg', 'img953.jpg', 'img209.jpg', 'img705.txt', 'img1347.txt', 'img848.txt', 'img920.jpg', 'img610.jpg', 'img739.jpg', 'img333.txt', 'img767.txt', 'img1241.txt', 'img388.jpg', 'img186.txt', 'img1184.txt', 'img836.txt', 'img1055.txt', 'img490.txt', 'img1213.jpg', 'img1147.jpg', 'img300.txt', 'img831.jpg', 'img543.jpg', 'img185.txt', 'img37.txt', 'img454.txt', 'img508.txt', 'img1383.txt', 'img455.jpg', 'img599.txt', 'img711.txt', 'img10.jpg', 'img698.jpg', 'img1328.txt', 'img600.jpg', 'img461.txt', 'img518.jpg', 'img63.txt', 'img200.jpg', 'img305.jpg', 'img59.jpg', 'img336.jpg', 'img1434.txt', 'img1377.txt', 'img1096.txt', 'img1191.txt', 'img1311.txt', 'img815.txt', 'img652.jpg', 'img332.jpg', 'img105.jpg', 'img188.txt', 'img603.jpg', 'img1310.jpg', 'img55.txt', 'img246.txt', 'img305.txt', 'img284.txt', 'img1280.jpg', 'img671.jpg', 'img557.txt', 'img852.txt', 'img1234.txt', 'img666.txt', 'img1205.jpg', 'img933.jpg', 'img118.txt', 'img226.jpg', 'img430.txt', 'img533.jpg', 'img662.jpg', 'img7.txt', 'img990.jpg', 'img1216.txt', 'img56.txt', 'img860.txt', 'img1057.txt', 'img1161.jpg', 'img1224.txt', 'img503.txt', 'img335.txt', 'img147.jpg', 'img86.txt', 'img1105.txt', 'img1322.txt', 'img128.txt', 'img256.txt', 'img661.jpg', 'img987.txt', 'img665.txt', 'img987.jpg', 'img1391.jpg', 'img579.txt', 'img98.jpg', 'img537.jpg', 'img147.txt', 'img149.jpg', 'img225.jpg', 'img778.txt', 'img315.jpg', 'img879.txt', 'img413.txt', 'img236.jpg', 'img736.txt', 'img220.txt', 'img938.jpg', 'img449.jpg', 'img1370.jpg', 'img648.txt', 'img881.txt', 'img302.jpg', 'img1263.txt', 'img700.txt', 'img576.txt', 'img909.jpg', 'img28.jpg', 'img1321.txt', 'img278.jpg', 'img191.txt', 'img857.jpg', 'img981.txt', 'img326.txt', 'img643.txt', 'img101.jpg', 'img473.txt', 'img15.txt', 'img745.txt', 'img489.txt', 'img809.txt', 'img81.jpg', 'img1254.jpg', 'img1402.txt', 'img971.jpg', 'img967.txt', 'img843.jpg', 'img885.jpg', 'img350.jpg', 'img244.txt', 'img42.txt', 'img1062.jpg', 'img267.txt', 'img1232.txt', 'img1290.jpg', 'img6.txt', 'img263.txt', 'img473.jpg', 'img568.txt', 'img1143.jpg', 'img940.txt', 'img1249.txt', 'img478.txt', 'img103.jpg', 'img1165.jpg', 'img702.jpg', 'img270.txt', 'img114.txt', 'img785.txt', 'img1091.jpg', 'img73.txt', 'img1302.jpg', 'img958.jpg', 'img536.txt', 'img303.jpg', 'img854.txt', 'img825.txt', 'img1338.jpg', 'img515.txt', 'img1067.jpg', 'img446.txt', 'img238.jpg', 'img931.txt', 'img1261.jpg', 'img581.jpg', 'img651.txt', 'img1188.jpg', 'img1107.jpg', 'img1011.jpg', 'img89.txt', 'img644.jpg', 'img120.jpg', 'img1041.txt', 'img610.txt', 'img374.jpg', 'img1401.jpg', 'img408.txt', 'img381.jpg', 'img79.txt', 'img1373.jpg', 'img182.txt', 'img172.jpg', 'img77.txt', 'img1143.txt', 'img605.jpg', 'img480.jpg', 'img660.txt', 'img1320.jpg', 'img236.txt', 'img433.jpg', 'img69.txt', 'img658.txt', 'img138.txt', 'img1063.jpg', 'img165.jpg', 'img50.txt', 'img763.txt', 'img474.jpg', 'img719.jpg', 'img343.jpg', 'img200.txt', 'img952.txt', 'img255.jpg', 'img126.jpg', 'img1421.txt', 'img1116.txt', 'img493.txt', 'img975.txt', 'img410.txt', 'img319.jpg', 'img694.jpg', 'img365.txt', 'img481.jpg', 'img30.txt', 'img392.txt', 'img1172.txt', 'img561.txt', 'img298.txt', 'img717.txt', 'img649.txt', 'img624.txt', 'img931.jpg', 'img1327.jpg', 'img728.txt', 'img814.txt', 'img1112.txt', 'img653.txt', 'img419.txt', 'img1378.jpg', 'img476.txt', 'img112.jpg', 'img199.jpg', 'img1221.txt', 'img463.jpg', 'img1356.txt', 'img1170.jpg', 'img211.txt', 'img941.txt', 'img1094.txt', 'img1151.jpg', 'img622.jpg', 'img107.txt', 'img1186.jpg', 'img844.txt', 'img450.txt', 'img916.txt', 'img638.jpg', 'img621.jpg', 'img129.jpg', 'img900.txt', 'img1043.jpg', 'img1316.jpg', 'img310.txt', 'img971.txt', 'img484.jpg', 'img106.txt', 'img152.jpg', 'img191.jpg', 'img1104.jpg', 'img802.txt', 'img709.jpg', 'img1031.txt', 'img1209.jpg', 'img101.txt', 'img1118.txt', 'img1159.txt', 'img1179.jpg', 'img791.jpg', 'img645.jpg', 'img1421.jpg', 'img359.jpg', 'img530.txt', 'img770.txt', 'img899.txt', 'img1305.jpg', 'img750.txt', 'img1307.txt', 'img1081.jpg', 'img347.jpg', 'img15.jpg', 'img1427.txt', 'img1370.txt', 'img279.txt', 'img1212.jpg', 'img411.jpg', 'img449.txt', 'img615.jpg', 'img1175.txt', 'img639.jpg', 'img1183.jpg', 'img1004.txt', 'img739.txt', 'img1202.txt', 'img1242.jpg', 'img354.txt', 'img619.jpg', 'img1410.txt', 'img1121.txt', 'img14.jpg', 'img1330.txt', 'img928.txt', 'img668.jpg', 'img407.jpg', 'img341.jpg', 'img867.jpg', 'img1244.txt', 'img75.jpg', 'img1318.jpg', 'img17.txt', 'img1176.txt', 'img115.jpg', 'img1015.txt', 'img276.txt', 'img686.txt', 'img669.txt', 'img1166.txt', 'img181.jpg', 'img80.jpg', 'img1195.txt', 'img972.jpg', 'img578.txt', 'img300.jpg', 'img66.jpg', 'img29.jpg', 'img598.jpg', 'img646.jpg', 'img46.txt', 'img914.jpg', 'img1224.jpg', 'img219.jpg', 'img466.jpg', 'img189.jpg', 'img1424.txt', 'img547.txt', 'img707.txt', 'img1419.jpg', 'img522.jpg', 'img1145.jpg', 'img310.jpg', 'img495.jpg', 'img901.txt', 'img1239.txt', 'img526.jpg', 'img14.txt', 'img440.jpg', 'img452.txt', 'img205.txt', 'img163.jpg', 'img1301.jpg', 'img1204.txt', 'img1016.txt', 'img1240.jpg', 'img976.txt', 'img1136.txt', 'img84.txt', 'img630.txt', 'img13.txt', 'img880.txt', 'img65.txt', 'img585.jpg', 'img628.txt', 'img804.jpg', 'img68.txt', 'img553.jpg', 'img472.jpg', 'img237.txt', 'img69.jpg', 'img670.txt', 'img1426.jpg', 'img1358.txt', 'img618.jpg', 'img535.txt', 'img405.txt', 'img425.txt', 'img730.txt', 'img1153.txt', 'img32.jpg', 'img724.jpg', 'img1376.txt', 'img650.txt', 'img61.jpg', 'img202.txt', 'img955.jpg', 'img684.jpg', 'img218.jpg', 'img479.txt', 'img1058.txt', 'img394.txt', 'img1125.txt', 'img716.txt', 'img615.txt', 'img584.txt', 'img885.txt', 'img1333.txt', 'img611.jpg', 'img870.txt', 'img1063.txt', 'img111.jpg', 'img652.txt', 'img986.txt', 'img689.jpg', 'img1272.jpg', 'img1090.jpg', 'img367.jpg', 'img225.txt', 'img62.txt', 'img1287.jpg', 'img772.txt', 'img1062.txt', 'img427.txt', 'img382.jpg', 'img1124.jpg', 'img212.txt', 'img364.jpg', 'img638.txt', 'img1407.jpg', 'img1147.txt', 'img48.txt', 'img312.txt', 'img889.jpg', 'img590.jpg', 'img780.jpg', 'img267.jpg', 'img647.txt', 'img1426.txt', 'img322.txt', 'img1152.txt', 'img1394.txt', 'img887.txt', 'img819.txt', 'img397.txt', 'img983.txt', 'img502.txt', 'img614.txt', 'img471.jpg', 'img831.txt', 'img5.jpg', 'img755.txt', 'img749.txt', 'img135.jpg', 'img968.txt', 'img46.jpg', 'img41.txt', 'img132.txt', 'img123.txt', 'img150.txt', 'img489.jpg', 'img112.txt', 'img400.jpg', 'img682.txt', 'img771.jpg', 'img344.jpg', 'img577.jpg', 'img1189.txt', 'img1134.jpg', 'img1239.jpg', 'img829.jpg', 'img1425.txt', 'img1306.txt', 'img1159.jpg', 'img1299.txt', 'img99.txt', 'img317.jpg', 'img896.txt', 'img799.txt', 'img932.jpg', 'img12.txt', 'img185.jpg', 'img487.jpg', 'img178.jpg', 'img666.jpg', 'img720.jpg', 'img372.jpg', 'img724.txt', 'img1436.txt', 'img977.jpg', 'img935.txt', 'img371.txt', 'img589.txt', 'img249.txt', 'img1362.txt', 'img1423.jpg', 'img601.txt', 'img634.txt', 'img1346.txt', 'img67.jpg', 'img806.txt', 'img746.jpg', 'img369.jpg', 'img1241.jpg', 'img712.jpg', 'img550.txt', 'img710.txt', 'img318.jpg', 'img1226.txt', 'img214.txt', 'img103.txt', 'img865.txt', 'img1011.txt', 'img644.txt', 'img1282.txt', 'img1309.txt', 'img1065.jpg', 'img335.jpg', 'img1154.txt', 'img1250.jpg', 'img457.jpg', 'img1130.txt', 'img1027.jpg', 'img351.txt', 'img1384.jpg', 'img1404.jpg', 'img630.jpg', 'img1058.jpg', 'img513.jpg', 'img628.jpg', 'img201.jpg', 'img687.jpg', 'img1042.jpg', 'img1300.txt', 'img292.jpg', 'img1231.jpg', 'img390.txt', 'img567.jpg', 'img456.txt', 'img757.jpg', 'img530.jpg', 'img44.txt', 'img1307.jpg', 'img1408.jpg', 'img93.txt', 'img520.jpg', 'img299.jpg', 'img1033.txt', 'img141.txt', 'img1075.jpg', 'img252.jpg', 'img211.jpg', 'img1169.jpg', 'img867.txt', 'img406.jpg', 'img1430.txt', 'img299.txt', 'img254.txt', 'img219.txt', 'img557.jpg', 'img674.txt', 'img345.jpg', 'img1111.txt', 'img183.txt', 'img905.jpg', 'img375.jpg', 'img1183.txt', 'img1360.txt', 'img3.jpg', 'img753.txt', 'img143.txt', 'img250.txt', 'img512.jpg', 'img1295.txt', 'img1268.txt', 'img245.jpg', 'img4.jpg', 'img1045.txt', 'img950.jpg', 'img1201.jpg', 'img102.txt', 'img417.txt', 'img1388.jpg', 'img1261.txt', 'img1078.jpg', 'img1290.txt', 'img1256.txt', 'img603.txt', 'img1050.txt', 'img673.jpg', 'img1348.txt', 'img1372.jpg', 'img132.jpg', 'img356.txt', 'img542.jpg', 'img923.jpg', 'img115.txt', 'img922.txt', 'img1187.txt', 'img406.txt', 'img127.txt', 'img714.jpg', 'img380.txt', 'img691.txt', 'img1093.txt', 'img1435.txt', 'img1223.txt', 'img1236.jpg', 'img71.jpg', 'img884.jpg', 'img1358.jpg', 'img1099.txt', 'img1170.txt', 'img447.txt', 'img1385.txt', 'img374.txt', 'img641.txt', 'img393.jpg', 'img1406.jpg', 'img734.txt', 'img168.jpg', 'img1389.jpg', 'img1322.jpg', 'img1187.jpg', 'img546.txt', 'img824.jpg', 'img427.jpg', 'img1192.txt', 'img83.txt', 'img100.jpg', 'img616.jpg', 'img293.jpg', 'img597.jpg', 'img384.jpg', 'img145.jpg', 'img1429.txt', 'img977.txt', 'img496.jpg', 'img71.txt', 'img559.jpg', 'img339.txt', 'img216.jpg', 'img369.txt', 'img593.txt', 'img1369.jpg', 'img61.txt', 'img292.txt', 'img29.txt', 'img90.txt', 'img554.txt', 'img1413.txt', 'img1148.txt', 'img173.txt', 'img1229.txt', 'img1248.txt', 'img142.jpg', 'img311.txt', 'img350.txt', 'img145.txt', 'img91.jpg', 'img204.txt', 'img281.txt', 'img432.jpg', 'img804.txt', 'img511.txt', 'img1237.jpg', 'img845.txt', 'img1103.jpg', 'img1243.jpg', 'img381.txt', 'img21.txt', 'img563.txt', 'img433.txt', 'img1171.txt', 'img1077.txt', 'img199.txt', 'img886.jpg', 'img203.txt', 'img759.txt', 'img538.jpg', 'img898.txt', 'img1067.txt', 'img137.jpg', 'img848.jpg', 'img357.jpg', 'img357.txt', 'img1278.jpg', 'img1165.txt', 'img851.jpg', 'img560.jpg', 'img23.jpg', 'img1342.txt', 'img513.txt', 'img1353.txt', 'img1385.jpg', 'img44.jpg', 'img510.txt', 'img631.jpg', 'img24.txt', 'img1157.txt', 'img537.txt', 'img76.txt', 'img108.txt', 'img1137.txt', 'img573.jpg', 'img64.txt', 'img678.jpg', 'img558.jpg', 'img434.txt', 'img148.txt', 'img501.txt', 'img409.jpg', 'img1278.txt', 'img57.txt', 'img1337.txt', 'img535.jpg', 'img794.jpg', 'img1150.txt', 'img207.txt', 'img734.jpg', 'img619.txt', 'img1127.txt', 'img1262.jpg', 'img171.jpg', 'img1135.txt', 'img892.jpg', 'img1171.jpg', 'img617.txt', 'img119.txt', 'img782.jpg', 'img429.txt', 'img37.jpg', 'img929.txt', 'img590.txt', 'img979.txt', 'img1000.txt', 'img1262.txt', 'img817.jpg', 'img121.jpg', 'img1391.txt', 'img1118.jpg', 'img161.txt', 'img656.jpg', 'img1344.txt', 'img1056.txt', 'img43.jpg', 'img1352.jpg', 'img938.txt', 'img1031.jpg', 'img1368.txt', 'img96.txt', 'img1123.jpg', 'img320.jpg', 'img60.jpg', 'img1178.jpg', 'img308.jpg', 'img387.jpg', 'img1137.jpg', 'img1345.jpg', 'img629.jpg', 'img536.jpg', 'img1397.txt', 'img607.txt', 'img1163.txt', 'img1306.jpg', 'img609.txt', 'img458.jpg', 'img1296.txt', 'img371.jpg', 'img1210.jpg', 'img765.jpg', 'img239.jpg', 'img1019.jpg', 'img809.jpg', 'img841.jpg', 'img819.jpg', 'img520.txt', 'img468.jpg', 'img465.jpg', 'img436.jpg', 'img713.jpg', 'img718.txt', 'img404.txt', 'img807.txt', 'img1100.jpg', 'img705.jpg', 'img1032.jpg', 'img868.txt', 'img737.txt', 'img1014.txt', 'img485.jpg', 'img222.jpg', 'img869.jpg', 'img701.jpg', 'img1225.txt', 'img122.jpg', 'img775.txt', 'img1400.txt', 'img49.jpg', 'img892.txt', 'img1368.jpg', 'img1096.jpg', 'img1341.txt', 'img1130.jpg', 'img1068.jpg', 'img354.jpg', 'img55.jpg', 'img617.jpg', 'img911.jpg', 'img214.jpg', 'img231.txt', 'img942.txt', 'img891.txt', 'img441.jpg', 'img228.txt', 'img78.jpg', 'img437.txt', 'img399.jpg', 'img1162.txt', 'img994.txt', 'img1070.jpg', 'img708.txt', 'img828.txt', 'img67.txt', 'img1212.txt', 'img1428.txt', 'img270.jpg', 'img135.txt', 'img340.txt', 'img1054.jpg', 'img1250.txt', 'img565.txt', 'img361.txt', 'img758.jpg', 'img1242.txt', 'img865.jpg', 'img1040.jpg', 'img1244.jpg', 'img549.jpg', 'img108.jpg', 'img849.jpg', 'img1312.jpg', 'img1329.txt', 'img1044.txt', 'img695.txt', 'img1381.jpg', 'img507.txt', 'img841.txt', 'img1053.txt', 'img1439.txt', 'img420.txt', 'img949.txt', 'img733.txt', 'img161.jpg', 'img1089.txt', 'img526.txt', 'img1026.jpg', 'img1235.txt', 'img1392.jpg', 'img1338.txt', 'img367.txt', 'img1117.txt', 'img400.txt', 'img288.txt', 'img890.txt', 'img730.jpg', 'img1230.jpg', 'img923.txt', 'img22.jpg', 'img287.txt', 'img1271.txt', 'img1203.txt', 'img781.jpg', 'img1291.txt', 'img834.jpg', 'img174.txt', 'img442.jpg', 'img1238.txt', 'img215.txt', 'img1439.jpg', 'img516.txt', 'img840.txt', 'img193.jpg', 'img294.jpg', 'img1097.jpg', 'img95.jpg', 'img571.jpg', 'img229.txt', 'img125.jpg', 'img30.jpg', 'img766.txt', 'img297.txt', 'img1257.txt', 'img845.jpg', 'img1129.txt', 'img957.txt', 'img346.txt', 'img1247.txt', 'img1100.txt', 'img521.txt', 'img54.txt', 'img538.txt', 'img1363.txt', 'img231.jpg', 'img487.txt', 'img494.txt', 'img70.jpg', 'img642.jpg', 'img1076.txt', 'img843.txt', 'img378.jpg', 'img1371.jpg', 'img74.txt', 'img772.jpg', 'img1086.txt', 'img19.jpg', 'img1123.txt', 'img469.txt', 'img985.txt', 'img1010.jpg', 'img984.txt', 'img419.jpg', 'img383.txt', 'img486.jpg', 'img806.jpg', 'img333.jpg', 'img1316.txt', 'img790.txt', 'img1287.txt', 'img905.txt', 'img334.jpg', 'img291.jpg', 'img1110.jpg', 'img1361.txt', 'img506.jpg', 'img90.jpg', 'img1427.jpg', 'img1056.jpg', 'img1305.txt', 'img494.jpg', 'img402.jpg', 'img288.jpg', 'img878.txt', 'img283.jpg', 'img347.txt', 'img1284.jpg', 'img34.txt', 'img1357.txt', 'img677.txt', 'img710.jpg', 'img654.jpg', 'img319.txt', 'img1383.jpg', 'img137.txt', 'img833.txt', 'img443.jpg', 'img65.jpg', 'img698.txt', 'img678.txt', 'img1396.txt', 'img1249.jpg', 'img6.jpg', 'img253.jpg', 'img109.jpg', 'img674.jpg', 'img762.txt', 'img1422.jpg', 'img856.jpg', 'img1087.jpg', 'img443.txt', 'img1217.txt', 'img393.txt', 'img394.jpg', 'img423.jpg', 'img404.jpg', 'img1065.txt', 'img508.jpg', 'img1151.txt', 'img355.txt', 'img1389.txt', 'img1169.txt', 'img1128.jpg', 'img454.jpg', 'img387.txt', 'img477.jpg', 'img176.jpg', 'img830.jpg', 'img801.txt', 'img1412.txt', 'img658.jpg', 'img1246.jpg', 'img316.jpg', 'img2.txt', 'img1021.jpg', 'img1099.jpg', 'img222.txt', 'img1393.txt', 'img1291.jpg', 'img891.jpg', 'img198.txt', 'img541.jpg', 'img221.jpg', 'img815.jpg', 'img816.txt', 'img180.jpg', 'img993.txt', 'img168.txt', 'img765.txt', 'img782.txt', 'img571.txt', 'img1346.jpg', 'img1237.txt', 'img714.txt', 'img762.jpg', 'img1132.txt', 'img826.txt', 'img786.jpg', 'img110.txt', 'img1084.txt', 'img38.jpg', 'img116.txt', 'img965.txt', 'img980.jpg', 'img546.jpg', 'img164.txt', 'img948.txt', 'img871.jpg', 'img1090.txt', 'img1141.jpg', 'img812.txt', 'img792.jpg', 'img1002.jpg', 'img466.txt', 'img713.txt', 'img1418.txt', 'img187.txt', 'img415.jpg', 'img307.txt', 'img862.txt', 'img1028.jpg', 'img389.jpg', 'img706.jpg', 'img1182.txt', 'img729.txt', 'img180.txt', 'img139.txt', 'img774.txt', 'img808.jpg', 'img1297.txt', 'img198.jpg', 'img627.jpg', 'img25.txt', 'img934.jpg', 'img26.jpg', 'img852.jpg', 'img1396.jpg', 'img1126.jpg', 'img1258.txt', 'img213.jpg', 'img1037.txt', 'img331.txt', 'img140.txt', 'img1103.txt', 'img457.txt', 'img564.jpg', 'img448.jpg', 'img850.jpg', 'img640.txt', 'img1380.jpg', 'img783.txt', 'img233.jpg', 'img679.txt', 'img753.jpg', 'img73.jpg', 'img583.txt', 'img384.txt', 'img947.jpg', 'img919.txt', 'img1125.jpg', 'img1347.jpg', 'img23.txt', 'img902.txt', 'img1218.txt', 'img1372.txt', 'img554.jpg', 'img56.jpg', 'img88.jpg', 'img750.jpg', 'img376.txt', 'img1380.txt', 'img311.jpg', 'img528.jpg', 'img467.txt', 'img329.jpg', 'img1285.txt', 'img1142.txt', 'img313.txt', 'img114.jpg', 'img230.jpg', 'img959.txt', 'img1415.txt', 'img13.jpg', 'img968.jpg', 'img106.jpg', 'img368.jpg', 'img334.txt', 'img1414.jpg', 'img748.jpg', 'img221.txt', 'img195.txt', 'img1007.jpg', 'img1.jpg', 'img1110.txt', 'img378.txt', 'img25.jpg', 'img998.txt', 'img230.txt', 'img1001.txt', 'img1091.txt', 'img1350.jpg', 'img1336.txt', 'img997.txt', 'img703.jpg', 'img329.txt', 'img1217.jpg', 'img386.jpg', 'img250.jpg', 'img1061.txt', 'img391.jpg', 'img488.txt', 'img645.txt', 'img572.txt', 'img1379.jpg', 'img864.jpg', 'img444.jpg', 'img261.jpg', 'img47.txt', 'img1228.jpg', 'img596.txt', 'img1277.txt', 'img127.jpg', 'img1440.jpg', 'img1074.jpg', 'img76.jpg', 'img1275.txt', 'img1035.txt', 'img498.txt', 'img1355.txt', 'img54.jpg', 'img608.jpg', 'img337.txt', 'img1428.jpg', 'img1279.txt', 'img588.jpg', 'img769.jpg', 'img664.txt', 'img31.txt', 'img1154.jpg', 'img770.jpg', 'img276.jpg', 'img527.jpg', 'img1200.jpg', 'img1284.txt', 'img397.jpg', 'img882.jpg', 'img917.txt', 'img574.txt', 'img1420.txt', 'img265.txt', 'img899.jpg', 'img456.jpg', 'img793.txt', 'img962.txt', 'img117.txt', 'img1012.txt', 'img309.jpg', 'img289.txt', 'img402.txt', 'img504.txt', 'img281.jpg', 'img1066.txt', 'img1243.txt', 'img635.jpg', 'img596.jpg', 'img240.jpg', 'img604.jpg', 'img504.jpg', 'img708.jpg', 'img414.txt', 'img1179.txt', 'img262.txt', 'img1320.txt', 'img1381.txt', 'img1418.jpg', 'img650.jpg', 'img488.jpg', 'img84.jpg', 'img100.txt', 'img462.jpg', 'img624.jpg', 'img1016.jpg', 'img166.txt', 'img656.txt', 'img1008.txt', 'img486.txt', 'img429.jpg', 'img562.jpg', 'img306.jpg', 'img1139.txt', 'img380.jpg', 'img581.txt', 'img1351.jpg', 'img625.txt', 'img1365.txt', 'img1047.txt', 'img515.jpg', 'img1253.txt', 'img107.jpg', 'img1092.jpg', 'img533.txt', 'img1413.jpg', 'img829.txt', 'img293.txt', 'img248.jpg', 'img469.jpg', 'img325.txt', 'img1003.txt', 'img556.jpg', 'img196.txt', 'img1200.txt', 'img873.jpg', 'img208.jpg', 'img1051.jpg', 'img995.txt', 'img592.jpg', 'img623.jpg', 'img11.jpg', 'img1257.jpg', 'img825.jpg', 'img725.txt', 'img497.jpg', 'img321.txt', 'img355.jpg', 'img641.jpg', 'img655.jpg', 'img79.jpg', 'img1140.txt', 'img1259.jpg', 'img146.txt', 'img442.txt', 'img531.jpg', 'img952.jpg', 'img1344.jpg', 'img468.txt', 'img738.txt', 'img179.txt', 'img472.txt', 'img1411.txt', 'img181.txt', 'img768.txt', 'img304.txt', 'img49.txt', 'img519.txt', 'img830.txt', 'img850.txt', 'img798.txt', 'img1021.txt', 'img1253.jpg', 'img933.txt', 'img425.jpg', 'img1009.jpg', 'img986.jpg', 'img594.txt', 'img824.txt', 'img1233.jpg', 'img1394.jpg', 'img863.txt', 'img785.jpg', 'img272.txt', 'img483.jpg', 'img1001.jpg', 'img1081.txt', 'img1215.jpg', 'img890.jpg', 'img8.jpg', 'img1093.jpg', 'img87.txt', 'img937.jpg', 'img974.txt', 'img1195.jpg', 'img207.jpg', 'img274.txt', 'img291.txt', 'img1043.txt', 'img242.txt', 'img1382.txt', 'img1166.jpg', 'img162.txt', 'img570.jpg', 'img428.txt', 'img146.jpg', 'img945.jpg', 'img883.txt', 'img635.txt', 'img1388.txt', 'img873.txt', 'img1432.txt', 'img748.txt', 'img889.txt', 'img879.jpg', 'img1005.jpg', 'img131.jpg', 'img227.jpg', 'img31.jpg', 'img389.txt', 'img346.jpg', 'img116.jpg', 'img492.txt', 'img460.txt', 'img35.jpg', 'img758.txt', 'img1078.txt', 'img707.jpg', 'img439.jpg', 'img398.jpg', 'img264.txt', 'img295.jpg', 'img589.jpg', 'img327.txt', 'img53.txt', 'img1202.jpg', 'img1266.txt', 'img853.txt', 'img1174.txt', 'img74.jpg', 'img609.jpg', 'img1079.txt', 'img847.txt', 'img778.jpg', 'img901.jpg', 'img1399.txt', 'img298.jpg', 'img1352.txt', 'img284.jpg', 'img166.jpg', 'img196.jpg', 'img529.jpg', 'img450.jpg', 'img1189.jpg', 'img117.jpg', 'img33.txt', 'img441.txt', 'img859.jpg', 'img1034.txt', 'img224.txt', 'img893.txt', 'img110.jpg', 'img696.jpg', 'img167.jpg', 'img908.jpg', 'img257.txt', 'img1156.txt', 'img233.txt', 'img478.jpg', 'img158.jpg', 'img26.txt', 'img679.jpg', 'img1044.jpg', 'img458.txt', 'img1312.txt', 'img1407.txt', 'img444.txt', 'img366.jpg', 'img50.jpg', 'img124.txt', 'img608.txt', 'img606.txt', 'img1114.jpg', 'img202.jpg', 'img1072.txt', 'img352.jpg', 'img277.jpg', 'img129.txt', 'img1424.jpeg', 'img349.txt', 'img545.jpg', 'img915.txt', 'img788.txt', 'img438.txt', 'img1126.txt', 'img1182.jpg', 'img496.txt', 'img294.txt', 'img379.txt', 'img445.jpg', 'img417.jpg', 'img949.jpg', 'img780.txt', 'img1379.txt', 'img1336.jpg', 'img916.jpg', 'img330.jpg', 'img1168.txt', 'img1318.txt', 'img918.jpg', 'img322.jpg', 'img832.txt', 'img1314.txt', 'img208.txt', 'img499.txt', 'img795.jpg', 'img171.txt', 'img287.jpg', 'img602.txt', 'img407.txt', 'img798.jpg', 'img523.txt', 'img1207.txt', 'img41.jpg', 'img1395.jpg', 'img818.jpg', 'img580.jpg', 'img945.txt', 'img969.jpg', 'img963.txt', 'img1433.txt', 'img173.jpg', 'img1437.txt', 'img121.txt', 'img1404.txt', 'img552.txt', 'img1364.jpg', 'img887.jpg', 'img471.txt', 'img1141.txt', 'img695.jpg', 'img542.txt', 'img1359.jpg', 'img1259.txt', 'img1010.txt', 'img1323.jpg', 'img757.txt', 'img169.jpg', 'img1238.jpg', 'img1035.jpg', 'img1408.txt', 'img946.txt', 'img138.jpg', 'img874.txt', 'img876.txt', 'img373.jpg', 'img80.txt', 'img709.txt', 'img659.txt', 'img370.jpg', 'img301.jpg', 'img1269.txt', 'img105.txt', 'img875.txt', 'img601.jpg', 'img719.txt', 'img555.txt', 'img307.jpg', 'img1340.txt', 'img1367.txt', 'img827.jpg', 'img370.txt', 'img1069.txt', 'img846.txt', 'img1025.jpg', 'img34.jpg', 'img928.jpg', 'img1158.jpg', 'img551.txt', 'img136.txt', 'img942.jpg', 'img1387.jpg', 'img689.txt', 'img190.txt', 'img401.txt', 'img290.txt', 'img957.jpg', 'img422.txt', 'img964.txt', 'img517.jpg', 'img1258.jpg', 'img1298.txt', 'img157.txt', 'img1140.jpg', 'img1260.txt', 'img94.txt', 'img438.jpg', 'img363.jpg', 'img266.jpg', 'img124.jpg', 'img453.jpg', 'img1006.txt', 'img633.jpg', 'img584.jpg', 'img218.txt', 'img1437.jpg', 'img10.txt', 'img1194.txt', 'img805.jpg', 'img149.txt', 'img316.txt', 'img667.txt', 'img623.txt', 'img1251.txt', 'img398.txt', 'img960.txt', 'img671.txt', 'img470.jpg', 'img586.jpg', 'img1431.jpg', 'img280.txt', 'img459.txt', 'img1222.txt', 'img633.txt', 'img360.jpg', 'img464.jpg', 'img857.txt', 'img1207.jpg', 'img102.jpg', 'img1211.jpg', 'img20.jpg', 'img983.jpg', 'img144.txt', 'img683.txt', 'img92.txt', 'img68.jpg', 'img618.txt', 'img408.jpg', 'img657.txt', 'img654.txt', 'img78.txt', 'img569.txt', 'img1283.jpg', 'img545.txt', 'img764.txt', 'img283.txt', 'img667.jpg', 'img882.txt', 'img1129.jpg', 'img1373.txt', 'img505.txt', 'img1049.txt', 'img555.jpg', 'img256.jpg', 'img268.txt', 'img182.jpg', 'img767.jpg', 'img1167.txt', 'img583.jpg', 'img403.txt', 'img259.jpg', 'img1335.txt', 'img1133.jpg', 'img670.jpg', 'img1060.jpg', 'img155.jpg', 'img572.jpg', 'img1113.txt', 'img1313.txt', 'img32.txt', 'img325.jpg', 'img820.jpg', 'img704.jpg', 'img821.txt', 'img712.txt', 'img1196.txt', 'img1193.jpg', 'img1331.jpg', 'img332.txt', 'img255.txt', 'img507.jpg', 'img358.txt', 'img257.jpg', 'img789.txt', 'img1059.txt', 'img561.jpg', 'img534.txt', 'img943.jpg', 'img835.txt', 'img878.jpg', 'img151.txt', 'img518.txt', 'img802.jpg', 'img1190.txt', 'img1431.txt', 'img1199.txt', 'img120.txt', 'img82.txt', 'img970.txt', 'img1302.txt', 'img1406.txt', 'img669.jpg', 'img1022.txt', 'img156.jpg', 'img791.txt', 'img45.txt', 'img752.txt', 'img460.jpg', 'img261.txt', 'img1220.jpg', 'img377.jpg', 'img697.jpg', 'img693.jpg', 'img1085.jpg', 'img467.jpg', 'img738.jpg', 'img228.jpg', 'img1156.jpg', 'img22.txt', 'img1367.jpg', 'img328.txt', 'img1276.txt', 'img86.jpg', 'img1310.txt', 'img1339.txt', 'img492.jpg', 'img1018.txt', 'img1120.jpg', 'img253.txt', 'img58.txt', 'img1332.jpg', 'img72.jpg', 'img172.txt', 'img1266.jpg', 'img391.txt', 'img1256.jpg', 'img1410.jpg', 'img1181.jpg', 'img193.txt', 'img1245.txt', 'img392.jpg', 'img1032.txt', 'img637.jpg', 'img587.jpg', 'img573.txt', 'img1201.txt', 'img1436.jpg', 'img611.txt', 'img1104.txt', 'img1101.jpg', 'img386.txt', 'img1017.txt', 'img606.jpg', 'img632.jpg', 'img1251.jpg', 'img839.jpg', 'img543.txt', 'img779.txt', 'img612.txt', 'img1197.txt', 'img1117.jpg', 'img1188.txt', 'img1014.jpg', 'img241.txt', 'img1109.txt', 'img662.txt', 'img1417.txt', 'img746.txt', 'img958.txt', 'img810.txt', 'img1208.txt', 'img96.jpg', 'img238.txt', 'img688.txt', 'img282.txt', 'img1282.jpg', 'img716.jpg', 'img688.jpg', 'img883.jpg', 'img539.txt', 'img907.txt', 'img1308.txt', 'img134.txt', 'img176.txt', 'img192.txt', 'img936.txt', 'img362.txt', 'img1283.txt', 'img823.txt', 'img213.txt', 'img430.jpg', 'img1045.jpg', 'img223.jpg', 'img474.txt', 'img104.jpg', 'img936.jpg', 'img321.jpg', 'img1069.jpg', 'img548.txt', 'img1009.txt', 'img97.txt', 'img63.jpg', 'img177.txt', 'img215.jpg', 'img614.jpg', 'img924.txt', 'img744.txt', 'img203.jpg', 'img955.txt', 'img1107.txt', 'img595.jpg', 'img534.jpg', 'img1076.jpg', 'img361.jpg', 'img1030.txt', 'img485.txt', 'img366.txt', 'img1024.txt', 'img690.jpg', 'img1267.txt', 'img682.jpg', 'img439.txt', 'img1286.txt', 'img906.txt', 'img186.jpg', 'img847.jpg', 'img1215.txt', 'img694.txt', 'img241.jpg', 'img269.txt', 'img249.jpg', 'img506.txt', 'img1050.jpg', 'img1362.jpg', 'img62.jpg', 'img692.txt', 'img53.jpg', 'img991.txt', 'img47.jpg', 'img500.jpg', 'img1138.txt', 'img856.txt', 'img648.jpg', 'img1386.txt', 'img385.txt', 'img8.txt', 'img862.jpg', 'img232.jpg', 'img1115.jpg', 'img275.jpg', 'img410.jpg', 'img992.txt', 'img160.txt', 'img978.jpg', 'img723.txt', 'img978.txt', 'img163.txt', 'img556.txt', 'img993.jpg', 'img19.txt', 'img51.txt', 'img774.jpg', 'img353.txt', 'img262.jpg', 'img125.txt', 'img99.jpg', 'img1039.txt', 'img1074.txt', 'img675.jpg', 'img1230.txt', 'img153.jpg', 'img64.jpg', 'img562.txt', 'img130.txt', 'img1374.txt', 'img622.txt', 'img1092.txt', 'img980.txt', 'img157.jpg', 'img727.txt', 'img95.txt', 'img524.txt', 'img514.txt', 'img1417.jpg', 'img866.txt', 'img602.jpg', 'img1337.jpg', 'img592.txt', 'img313.jpg', 'img179.jpg', 'img701.txt', 'img569.jpg', 'img323.txt', 'img174.jpg', 'img448.txt', 'img499.jpg', 'img548.jpg', 'img741.jpg', 'img996.txt', 'img1180.txt', 'img358.jpg', 'img908.txt', 'img156.txt', 'img597.txt', 'img703.txt', 'img665.jpg', 'img1083.txt', 'img626.jpg', 'img94.jpg', 'img559.txt', 'img1401.txt', 'img240.txt', 'img992.jpg', 'img773.jpg', 'img532.jpg', 'img594.jpg', 'img828.jpg', 'img243.txt', 'img1157.jpg', 'img1019.txt', 'img808.txt', 'img265.jpg', 'img1023.txt', 'img1219.txt', 'img1005.txt', 'img775.jpg']\n"
          ]
        }
      ]
    },
    {
      "cell_type": "code",
      "source": [
        "def pixel_accuracy(output, target):\n",
        "    with torch.no_grad():\n",
        "        preds = (torch.sigmoid(output) > 0.5).float()\n",
        "        correct = (preds == target).float()\n",
        "        acc = correct.sum() / correct.numel()\n",
        "    return acc.item()\n"
      ],
      "metadata": {
        "id": "ggEkEE9_MHbD"
      },
      "execution_count": 23,
      "outputs": []
    },
    {
      "cell_type": "code",
      "source": [
        "for epoch in range(num_epochs):\n",
        "    model.train()\n",
        "    epoch_loss = 0\n",
        "    epoch_acc = 0\n",
        "\n",
        "    for images, masks in dataloader:\n",
        "        images = images.to(device)\n",
        "        masks = masks.to(device)\n",
        "\n",
        "        optimizer.zero_grad()\n",
        "        outputs = model(images)\n",
        "\n",
        "        loss = loss_fn(outputs, masks)\n",
        "        loss.backward()\n",
        "        optimizer.step()\n",
        "\n",
        "        epoch_loss += loss.item()\n",
        "        epoch_acc += pixel_accuracy(outputs, masks)\n",
        "\n",
        "    avg_loss = epoch_loss / len(dataloader)\n",
        "    avg_acc = epoch_acc / len(dataloader)\n",
        "\n",
        "    print(f\"Epoch {epoch+1}/{num_epochs} - Loss: {avg_loss:.4f} - Accuracy: {avg_acc:.4f}\")\n"
      ],
      "metadata": {
        "colab": {
          "base_uri": "https://localhost:8080/"
        },
        "id": "YARSDrWCSYbK",
        "outputId": "1e6359d6-de90-4c33-bdcf-c8299e4aa417"
      },
      "execution_count": 24,
      "outputs": [
        {
          "output_type": "stream",
          "name": "stdout",
          "text": [
            "Epoch 1/10 - Loss: 0.2070 - Accuracy: 0.9108\n",
            "Epoch 2/10 - Loss: 0.2068 - Accuracy: 0.9122\n",
            "Epoch 3/10 - Loss: 0.1968 - Accuracy: 0.9155\n",
            "Epoch 4/10 - Loss: 0.1907 - Accuracy: 0.9186\n",
            "Epoch 5/10 - Loss: 0.1866 - Accuracy: 0.9200\n",
            "Epoch 6/10 - Loss: 0.1801 - Accuracy: 0.9222\n",
            "Epoch 7/10 - Loss: 0.1740 - Accuracy: 0.9244\n",
            "Epoch 8/10 - Loss: 0.1668 - Accuracy: 0.9269\n",
            "Epoch 9/10 - Loss: 0.1668 - Accuracy: 0.9277\n",
            "Epoch 10/10 - Loss: 0.1567 - Accuracy: 0.9307\n"
          ]
        }
      ]
    }
  ]
}